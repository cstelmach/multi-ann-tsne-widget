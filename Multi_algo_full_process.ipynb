{
 "cells": [
  {
   "cell_type": "markdown",
   "metadata": {},
   "source": [
    "# Advanced usage"
   ]
  },
  {
   "cell_type": "code",
   "execution_count": 1,
   "metadata": {},
   "outputs": [
    {
     "name": "stdout",
     "output_type": "stream",
     "text": [
      "Data set contains 150 samples with 4 features\n",
      "100 training samples\n",
      "50 test samples\n"
     ]
    }
   ],
   "source": [
    "from openTSNE import TSNEEmbedding\n",
    "from openTSNE import initialization\n",
    "from openTSNE.callbacks import ErrorLogger\n",
    "\n",
    "\n",
    "import numpy as np\n",
    "from sklearn.model_selection import train_test_split\n",
    "\n",
    "import matplotlib.pyplot as plt\n",
    "\n",
    "\n",
    "from sklearn import datasets\n",
    "\n",
    "iris = datasets.load_iris()\n",
    "x, y = iris[\"data\"], iris[\"target\"]\n",
    "\n",
    "print(\"Data set contains %d samples with %d features\" % x.shape)\n",
    "\n",
    "x_train, x_test, y_train, y_test = train_test_split(x, y, test_size=.33, random_state=42)\n",
    "print(\"%d training samples\" % x_train.shape[0])\n",
    "print(\"%d test samples\" % x_test.shape[0])"
   ]
  },
  {
   "cell_type": "markdown",
   "metadata": {},
   "source": [
    "## Create a t-SNE embedding"
   ]
  },
  {
   "cell_type": "code",
   "execution_count": 4,
   "metadata": {},
   "outputs": [],
   "source": [
    "import logging\n",
    "import operator\n",
    "from functools import reduce\n",
    "\n",
    "import numpy as np\n",
    "import scipy.sparse as sp\n",
    "\n",
    "#from . import nearest_neighbors\n",
    "\n",
    "log = logging.getLogger(__name__)\n",
    "\n",
    "import openTSNE\n",
    "from openTSNE import nearest_neighbors\n",
    "from openTSNE.affinity import PerplexityBasedNN, joint_probabilities_nn, MultiscaleMixture, FixedSigmaNN\n",
    "\n",
    "from Orange.widgets.bakk.additional_files.algorithms import annoy, nearpy, nmslib\n",
    "\n",
    "\n",
    "def build_knn_index(\n",
    "    data, method, k, metric, metric_params=None, n_jobs=1, random_state=None\n",
    "):\n",
    "    methods = {\n",
    "        \"nndescent\": nearest_neighbors.NNDescent,\n",
    "        \"balltree\": nearest_neighbors.BallTree,\n",
    "        \"annoy\": annoy.Annoy,\n",
    "        \"hnsw\": nmslib.Hnsw,\n",
    "        \"sw-graph\": nmslib.SWGraph,\n",
    "        #\"vp-tree\": nmslib.VPTree,\n",
    "        \"napp\": nmslib.NAPP,\n",
    "        #\"simple_invindx\": nmslib.SimpleInvindx,\n",
    "        \"brute_force\": nmslib.BruteForce,\n",
    "        \"nearpy\": nearpy.NearPy,\n",
    "    }\n",
    "    if isinstance(method, nearest_neighbors.KNNIndex):\n",
    "        knn_index = method\n",
    "\n",
    "    elif method not in methods:\n",
    "        raise ValueError(\n",
    "            \"Unrecognized nearest neighbor algorithm `%s`. Please choose one \"\n",
    "            \"of the supported methods or provide a valid `KNNIndex` instance.\"\n",
    "            % method\n",
    "        )\n",
    "    else:\n",
    "        knn_index = methods[method](\n",
    "            metric=metric,\n",
    "            metric_params=metric_params,\n",
    "            n_jobs=n_jobs,\n",
    "            random_state=random_state,\n",
    "        )\n",
    "\n",
    "    neighbors, distances = knn_index.build(data, k=k)\n",
    "\n",
    "    return knn_index, neighbors, distances\n",
    "\n",
    "\n",
    "class MultiANNPerplexityBasedNN(PerplexityBasedNN):\n",
    "    \"\"\"Compute affinities using nearest neighbors.\n",
    "    \"\"\"\n",
    "\n",
    "    #super init !\n",
    "    def __init__(\n",
    "        self,\n",
    "        data,\n",
    "        perplexity=30,\n",
    "        method=\"annoy\",\n",
    "        metric=\"euclidean\",\n",
    "        metric_params=None,\n",
    "        symmetrize=True,\n",
    "        n_jobs=1,\n",
    "        random_state=None,\n",
    "    ):\n",
    "        self.n_samples = data.shape[0]\n",
    "        self.perplexity = self.check_perplexity(perplexity)\n",
    "\n",
    "        # self.knn_index = build_knn_index(\n",
    "        #     data, method, metric, metric_params, n_jobs, random_state\n",
    "        # )\n",
    "        #\n",
    "        # # Find and store the nearest neighbors so we can reuse them if the\n",
    "        # # perplexity is ever lowered\n",
    "        # k_neighbors = min(self.n_samples - 1, int(3 * self.perplexity))\n",
    "        # self.__neighbors, self.__distances = self.knn_index.query_train(\n",
    "        #     data, k=k_neighbors\n",
    "        # )\n",
    "\n",
    "        k_neighbors = min(self.n_samples - 1, int(3 * self.perplexity))\n",
    "        self.knn_index, self.__neighbors, self.__distances = build_knn_index(\n",
    "            data, method, k_neighbors, metric, metric_params, n_jobs, random_state\n",
    "        )\n",
    "\n",
    "        self.P = joint_probabilities_nn(\n",
    "            self.__neighbors,\n",
    "            self.__distances,\n",
    "            [self.perplexity],\n",
    "            symmetrize=symmetrize,\n",
    "            n_jobs=n_jobs,\n",
    "        )\n",
    "\n",
    "        self.n_jobs = n_jobs"
   ]
  },
  {
   "cell_type": "markdown",
   "metadata": {},
   "source": [
    "**3. Construct the `TSNEEmbedding` object**"
   ]
  },
  {
   "cell_type": "code",
   "execution_count": 11,
   "metadata": {
    "scrolled": true
   },
   "outputs": [
    {
     "name": "stdout",
     "output_type": "stream",
     "text": [
      "CPU times: user 708 µs, sys: 70 µs, total: 778 µs\n",
      "Wall time: 722 µs\n",
      "CPU times: user 3 µs, sys: 0 ns, total: 3 µs\n",
      "Wall time: 5.72 µs\n",
      "(100, 4)\n",
      "CPU times: user 3 µs, sys: 0 ns, total: 3 µs\n",
      "Wall time: 7.15 µs\n"
     ]
    }
   ],
   "source": [
    "%time init_train = initialization.pca(x_train, random_state=42)\n",
    "\n",
    "%time \n",
    "affinities_train = MultiANNPerplexityBasedNN(\n",
    "    x_train,\n",
    "    perplexity=30,\n",
    "    method=\"nearpy\",\n",
    "    metric=\"euclidean\",\n",
    "    n_jobs=8,\n",
    "    random_state=42,\n",
    ")\n",
    "\n",
    "%time\n",
    "\n",
    "embedding_train = TSNEEmbedding(\n",
    "    init_train,\n",
    "    affinities_train,\n",
    "    negative_gradient_method=\"fft\",\n",
    "    n_jobs=8,\n",
    "    callbacks=ErrorLogger(),\n",
    ")"
   ]
  },
  {
   "cell_type": "markdown",
   "metadata": {},
   "source": [
    "**4. Optimize embedding**"
   ]
  },
  {
   "cell_type": "markdown",
   "metadata": {},
   "source": [
    "1. Early exaggeration phase"
   ]
  },
  {
   "cell_type": "code",
   "execution_count": 12,
   "metadata": {},
   "outputs": [
    {
     "name": "stdout",
     "output_type": "stream",
     "text": [
      "Iteration   50, KL divergence  1.6603, 50 iterations in 7.1321 sec\n",
      "Iteration  100, KL divergence  1.6074, 50 iterations in 1.5160 sec\n",
      "Iteration  150, KL divergence  1.8448, 50 iterations in 3.8254 sec\n",
      "Iteration  200, KL divergence  1.8532, 50 iterations in 1.9233 sec\n",
      "Iteration  250, KL divergence  1.7739, 50 iterations in 2.4243 sec\n",
      "CPU times: user 15.8 s, sys: 568 ms, total: 16.3 s\n",
      "Wall time: 16.8 s\n"
     ]
    },
    {
     "data": {
      "image/png": "[encoded data removed]",
      "text/plain": [
       "<Figure size 576x576 with 1 Axes>"
      ]
     },
     "metadata": {},
     "output_type": "display_data"
    }
   ],
   "source": [
    "%time embedding_train_1 = embedding_train.optimize(n_iter=250, exaggeration=12, momentum=0.5)\n",
    "\n",
    "import utils\n",
    "utils.plot(embedding_train_1, y_train)\n",
    "\n",
    "# %time embedding_train_2 = embedding_train_1.optimize(n_iter=750, momentum=0.8)\n",
    "\n",
    "# utils.plot(embedding_train_2, y_train)\n",
    "\n",
    "# %%time\n",
    "# embedding_test = embedding_train_2.prepare_partial(\n",
    "#    x_test,\n",
    "#    initialization=\"median\",\n",
    "#    k=25,\n",
    "#    perplexity=5,\n",
    "#)\n",
    "\n",
    "#utils.plot(embedding_test, y_test)\n",
    "\n",
    "# %%time\n",
    "#embedding_test_1 = embedding_test.optimize(\n",
    "#   n_iter=100,\n",
    "#    learning_rate=1,\n",
    "#    exaggeration=2,\n",
    "#    momentum=0,\n",
    "#)\n",
    "\n",
    "#utils.plot(embedding_test_1, y_test)\n",
    "\n",
    "#fig, ax = plt.subplots(figsize=(12, 8))\n",
    "#utils.plot(embedding_train_2, y_train, alpha=0.25, ax=ax)\n",
    "#utils.plot(embedding_test_1, y_test, alpha=0.75, ax=ax)"
   ]
  },
  {
   "cell_type": "markdown",
   "metadata": {},
   "source": [
    "---"
   ]
  }
 ],
 "metadata": {
  "kernelspec": {
   "display_name": "Python 3",
   "language": "python",
   "name": "python3"
  },
  "language_info": {
   "codemirror_mode": {
    "name": "ipython",
    "version": 3
   },
   "file_extension": ".py",
   "mimetype": "text/x-python",
   "name": "python",
   "nbconvert_exporter": "python",
   "pygments_lexer": "ipython3",
   "version": "3.7.3"
  }
 },
 "nbformat": 4,
 "nbformat_minor": 2
}
