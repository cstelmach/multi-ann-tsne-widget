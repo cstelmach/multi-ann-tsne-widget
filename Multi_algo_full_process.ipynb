{
 "cells": [
  {
   "cell_type": "markdown",
   "metadata": {},
   "source": [
    "# Advanced usage"
   ]
  },
  {
   "cell_type": "markdown",
   "metadata": {},
   "source": [
    "### python test class\n"
   ]
  },
  {
   "cell_type": "markdown",
   "metadata": {},
   "source": [
    "### config files\n",
    "\n",
    "Provide option to input config files, in the form I want to get, if they don't provide any, you give/use default values. \n",
    ".txt format\n",
    "\n",
    "Describe it in the documentation how it should look like."
   ]
  },
  {
   "cell_type": "code",
   "execution_count": 142,
   "metadata": {},
   "outputs": [],
   "source": [
    "from openTSNE import TSNEEmbedding\n",
    "from openTSNE import initialization\n",
    "from openTSNE.callbacks import ErrorLogger\n",
    "\n",
    "\n",
    "import numpy as np\n",
    "from sklearn.model_selection import train_test_split\n",
    "\n",
    "import matplotlib.pyplot as plt"
   ]
  },
  {
   "cell_type": "markdown",
   "metadata": {},
   "source": [
    "## Load data"
   ]
  },
  {
   "cell_type": "code",
   "execution_count": 143,
   "metadata": {},
   "outputs": [],
   "source": [
    "from sklearn import datasets\n",
    "\n",
    "iris = datasets.load_iris()\n",
    "x, y = iris[\"data\"], iris[\"target\"]"
   ]
  },
  {
   "cell_type": "code",
   "execution_count": 144,
   "metadata": {},
   "outputs": [
    {
     "name": "stdout",
     "output_type": "stream",
     "text": [
      "Data set contains 150 samples with 4 features\n"
     ]
    }
   ],
   "source": [
    "print(\"Data set contains %d samples with %d features\" % x.shape)"
   ]
  },
  {
   "cell_type": "markdown",
   "metadata": {},
   "source": [
    "## Create train/test split"
   ]
  },
  {
   "cell_type": "code",
   "execution_count": 145,
   "metadata": {},
   "outputs": [],
   "source": [
    "x_train, x_test, y_train, y_test = train_test_split(x, y, test_size=.33, random_state=42)"
   ]
  },
  {
   "cell_type": "code",
   "execution_count": 146,
   "metadata": {},
   "outputs": [
    {
     "name": "stdout",
     "output_type": "stream",
     "text": [
      "100 training samples\n",
      "50 test samples\n"
     ]
    }
   ],
   "source": [
    "print(\"%d training samples\" % x_train.shape[0])\n",
    "print(\"%d test samples\" % x_test.shape[0])"
   ]
  },
  {
   "cell_type": "markdown",
   "metadata": {},
   "source": [
    "## Create a t-SNE embedding\n",
    "\n",
    "Like in the *simple_usage* notebook, we will run the standard t-SNE optimization.\n",
    "\n",
    "This example shows the standard t-SNE optimization. Much can be done in order to better preserve global structure and improve embedding quality. Please refer to the *preserving_global_structure* notebook for some examples."
   ]
  },
  {
   "cell_type": "markdown",
   "metadata": {},
   "source": [
    "**1. Compute the affinities between data points**"
   ]
  },
  {
   "cell_type": "code",
   "execution_count": 147,
   "metadata": {},
   "outputs": [],
   "source": [
    "class KNNIndex_Elements:\n",
    "    def __init__(self, metric, metric_params=None, n_jobs=1, random_state=None):\n",
    "        self.index = None\n",
    "        self.metric = metric\n",
    "        self.metric_params = metric_params\n",
    "        self.n_jobs = n_jobs\n",
    "        self.random_state = random_state\n",
    "\n",
    "    def build(self, data):\n",
    "        \"\"\"Build the index so we can query nearest neighbors.\"\"\"\n",
    "\n",
    "    def query_train(self, data, k):\n",
    "        \"\"\"Query the index for the points used to build index.\"\"\"\n",
    "\n",
    "    def query(self, query, k):\n",
    "        \"\"\"Query the index with new points.\"\"\"\n",
    "\n",
    "    def check_metric(self, metric):\n",
    "        \"\"\"Check that the metric is supported by the KNNIndex instance.\"\"\"\n",
    "\n",
    "class Annoy:\n",
    "    \"\"\"\n",
    "    \"\"\"\n",
    "    \n",
    "class NearPy:\n",
    "    \"\"\"\n",
    "    \"\"\"\n",
    "\n",
    "class ONNG:\n",
    "    \"\"\"\n",
    "    \"\"\"\n",
    "    \n",
    "class NMSLIB:\n",
    "    \"\"\"\n",
    "    \"\"\"\n",
    "#####       \n",
    "#self.knn_index = build_knn_index(\n",
    "#            data, method, metric, metric_params, n_jobs, random_state\n",
    "#        )"
   ]
  },
  {
   "cell_type": "markdown",
   "metadata": {},
   "source": [
    "### import affinity_multiann.py"
   ]
  },
  {
   "cell_type": "code",
   "execution_count": 287,
   "metadata": {},
   "outputs": [],
   "source": [
    "import logging\n",
    "import operator\n",
    "from functools import reduce\n",
    "\n",
    "import numpy as np\n",
    "import scipy.sparse as sp\n",
    "\n",
    "#from . import nearest_neighbors\n",
    "\n",
    "log = logging.getLogger(__name__)\n",
    "\n",
    "from openTSNE.affinity import PerplexityBasedNN, MultiscaleMixture, FixedSigmaNN, joint_probabilities_nn\n",
    "from openTSNE import nearest_neighbors\n",
    "\n",
    "class MultiANNPerplexityBasedNN(PerplexityBasedNN):\n",
    "    \"\"\"Compute affinities using nearest neighbors.\n",
    "    \"\"\"\n",
    "\n",
    "    #super init !    \n",
    "    def __init__(\n",
    "        self,\n",
    "        data,\n",
    "        perplexity=30,\n",
    "        method=\"approx\",\n",
    "        metric=\"euclidean\",\n",
    "        metric_params=None,\n",
    "        symmetrize=True,\n",
    "        n_jobs=1,\n",
    "        random_state=None,\n",
    "    ):\n",
    "        self.n_samples = data.shape[0]\n",
    "        self.perplexity = self.check_perplexity(perplexity)\n",
    "\n",
    "        self.knn_index = build_knn_index(\n",
    "            data, method, metric, metric_params, n_jobs, random_state\n",
    "        )\n",
    "\n",
    "        # Find and store the nearest neighbors so we can reuse them if the\n",
    "        # perplexity is ever lowered\n",
    "        k_neighbors = min(self.n_samples - 1, int(3 * self.perplexity))\n",
    "        self.__neighbors, self.__distances = self.knn_index.query_train(\n",
    "            data, k=k_neighbors\n",
    "        )\n",
    "        #print(\"Neighbors:\")\n",
    "        #print(self.__neighbors)\n",
    "        #print(len(self.__neighbors))\n",
    "        #print(\"Distances:\")\n",
    "        #print(self.__distances)\n",
    "        #print(len(self.__distances[0]))\n",
    "\n",
    "        self.P = joint_probabilities_nn(\n",
    "            self.__neighbors,\n",
    "            self.__distances,\n",
    "            [self.perplexity],\n",
    "            symmetrize=symmetrize,\n",
    "            n_jobs=n_jobs,\n",
    "        )\n",
    "\n",
    "        self.n_jobs = n_jobs\n",
    "        \n",
    "        \n",
    "        \n",
    "def build_knn_index(\n",
    "    data, method, metric, metric_params=None, n_jobs=1, random_state=None\n",
    "):\n",
    "    methods = {\n",
    "        #\"exact_alt\": nearest_neighbors.VPTree,\n",
    "        \"exact\": nearest_neighbors.BallTree,\n",
    "        \"approx\": nearest_neighbors.NNDescent,\n",
    "        #cs: options for ann algorithms\n",
    "        \"balltree\": nearest_neighbors.BallTree,\n",
    "        \"nndescent\": nearest_neighbors.NNDescent,\n",
    "        #\"annoy\": multi_nearest_neighbors.Annoy, (if filelocation in sumfile)\n",
    "        #\"annoy\": algorithms.annoy.Annoy (if filelocation in folder)\n",
    "        \"annoy\": Annoy,\n",
    "        \"hnsw\": Nmslib(\"hnsw\"),\n",
    "        \"sw-graph\": SWGraph,\n",
    "        \"vp-tree\": Nmslib(\"vp-tree\"),\n",
    "        \"napp\": Nmslib(\"napp\"),\n",
    "        \"simple_invindx\": Nmslib(\"simple_invindx\"),\n",
    "        \"brute_force\": Nmslib(\"brute_force\"),\n",
    "        #\"hnswlib\": Hnswlib,\n",
    "        #\"rpforest\": RPForest,\n",
    "        #\"flann\": FLANN,\n",
    "        #\"onng\": ONNG,\n",
    "        \"nearpy\": NearPy,\n",
    "    }\n",
    "    if isinstance(method, nearest_neighbors.KNNIndex):\n",
    "        knn_index = method\n",
    "\n",
    "    elif method not in methods:\n",
    "        raise ValueError(\n",
    "            \"Unrecognized nearest neighbor algorithm `%s`. \"\n",
    "            \"Please choose one of the supported methods or \"\n",
    "            \"provide a valid `KNNIndex` instance.\" % method\n",
    "        )\n",
    "    else:\n",
    "        knn_index = methods[method](\n",
    "            metric=metric,\n",
    "            metric_params=metric_params,\n",
    "            n_jobs=n_jobs,\n",
    "            random_state=random_state,\n",
    "        )\n",
    "\n",
    "    knn_index.build(data)\n",
    "\n",
    "    return knn_index        "
   ]
  },
  {
   "cell_type": "code",
   "execution_count": 273,
   "metadata": {},
   "outputs": [],
   "source": [
    "# class MultiANNFixedSigmaNN(FixedSigmaNN):\n",
    "#     \"\"\"Compute affinities using using nearest neighbors and a fixed bandwidth\n",
    "#     for the Gaussians in the ambient space.\n",
    "# \n",
    "#     Using a fixed Gaussian bandwidth can enable us to find smaller clusters of\n",
    "#     data points than we might be able to using the automatically determined\n",
    "#     bandwidths using perplexity. Note however that this requires mostly trial\n",
    "#     and error.\n",
    "#     \"\"\"\n",
    "# \n",
    "#     def __init__(\n",
    "#         self,\n",
    "#         data,\n",
    "#         sigma,\n",
    "#         k=30,\n",
    "#         method=\"exact\",\n",
    "#         metric=\"euclidean\",\n",
    "#         metric_params=None,\n",
    "#         symmetrize=True,\n",
    "#         n_jobs=1,\n",
    "#         random_state=None,\n",
    "#     ):\n",
    "#         self.n_samples = n_samples = data.shape[0]\n",
    "# \n",
    "#         if k >= self.n_samples:\n",
    "#             raise ValueError(\n",
    "#                 \"`k` (%d) cannot be larger than N-1 (%d).\" % (k, self.n_samples)\n",
    "#             )\n",
    "# \n",
    "#         knn_index, neighbors, distances = build_knn_index(\n",
    "#             data, method, k, metric, metric_params, n_jobs, random_state\n",
    "#         )\n",
    "# \n",
    "#         self.knn_index = knn_index\n",
    "# \n",
    "#         # Compute asymmetric pairwise input similarities\n",
    "#         conditional_P = np.exp(-distances ** 2 / (2 * sigma ** 2))\n",
    "#         conditional_P /= np.sum(conditional_P, axis=1)[:, np.newaxis]\n",
    "# \n",
    "#         P = sp.csr_matrix(\n",
    "#             (conditional_P.ravel(), neighbors.ravel(), range(0, n_samples * k + 1, k)),\n",
    "#             shape=(n_samples, n_samples),\n",
    "#         )\n",
    "# \n",
    "#         # Symmetrize the probability matrix\n",
    "#         if symmetrize:\n",
    "#             P = (P + P.T) / 2\n",
    "# \n",
    "#         # Convert weights to probabilities\n",
    "#         P /= np.sum(P)\n",
    "# \n",
    "#         self.sigma = sigma\n",
    "#         self.k = k\n",
    "#         self.P = P\n",
    "#         self.n_jobs = n_jobs\n",
    "#\n",
    "#\n",
    "# class MultiANNMultiscaleMixture(MultiscaleMixture):\n",
    "#     \"\"\"Calculate affinities using a Gaussian mixture kernel.\n",
    "# \n",
    "#     Instead of using a single perplexity to compute the affinities between data\n",
    "#     points, we can use a multiscale Gaussian kernel instead. This allows us to\n",
    "#     incorporate long range interactions.\n",
    "#     \"\"\"\n",
    "# \n",
    "#     def __init__(\n",
    "#         self,\n",
    "#         data,\n",
    "#         perplexities,\n",
    "#         method=\"exact\",\n",
    "#         metric=\"euclidean\",\n",
    "#         metric_params=None,\n",
    "#         symmetrize=True,\n",
    "#         n_jobs=1,\n",
    "#         random_state=None,\n",
    "#     ):\n",
    "#         self.n_samples = data.shape[0]\n",
    "# \n",
    "#         # We will compute the nearest neighbors to the max value of perplexity,\n",
    "#         # smaller values can just use indexing to truncate unneeded neighbors\n",
    "#         perplexities = self.check_perplexities(perplexities)\n",
    "#         max_perplexity = np.max(perplexities)\n",
    "#         k_neighbors = min(self.n_samples - 1, int(3 * max_perplexity))\n",
    "# \n",
    "#         self.knn_index, self.__neighbors, self.__distances = build_knn_index(\n",
    "#             data, method, k_neighbors, metric, metric_params, n_jobs, random_state\n",
    "#         )\n",
    "# \n",
    "#         self.P = self._calculate_P(\n",
    "#             self.__neighbors,\n",
    "#             self.__distances,\n",
    "#             perplexities,\n",
    "#             symmetrize=symmetrize,\n",
    "#             n_jobs=n_jobs,\n",
    "#         )\n",
    "# \n",
    "#         self.perplexities = perplexities\n",
    "#         self.n_jobs = n_jobs\n",
    "# \n",
    "# class MultiANNMultiscale(MultiANNMultiscaleMixture):\n",
    "#     \"\"\"Calculate affinities using averaged Gaussian perplexities.\n",
    "# \n",
    "#     In contrast to :class:`MultiscaleMixture`, which uses a Gaussian mixture\n",
    "#     kernel, here, we first compute single scale Gaussian kernels, convert them\n",
    "#     to probability distributions, then average them out between scales.\n",
    "# \n",
    "#     Please see the :ref:`parameter-guide` for more information.\n",
    "#     \"\"\"\n",
    "# \n",
    "#     @staticmethod\n",
    "#     def _calculate_P(\n",
    "#         neighbors,\n",
    "#         distances,\n",
    "#         perplexities,\n",
    "#         symmetrize=True,\n",
    "#         normalization=\"pair-wise\",\n",
    "#         n_reference_samples=None,\n",
    "#         n_jobs=1,\n",
    "#     ):\n",
    "#         # Compute normalized probabilities for each perplexity\n",
    "#         partial_Ps = [\n",
    "#             joint_probabilities_nn(\n",
    "#                 neighbors,\n",
    "#                 distances,\n",
    "#                 [perplexity],\n",
    "#                 symmetrize=symmetrize,\n",
    "#                 normalization=normalization,\n",
    "#                 n_reference_samples=n_reference_samples,\n",
    "#                 n_jobs=n_jobs,\n",
    "#             )\n",
    "#             for perplexity in perplexities\n",
    "#         ]\n",
    "#         # Sum them together, then normalize\n",
    "#         P = reduce(operator.add, partial_Ps, 0)\n",
    "# \n",
    "#         # Take care to properly normalize the affinity matrix\n",
    "#         if normalization == \"pair-wise\":\n",
    "#             P /= np.sum(P)\n",
    "#         elif normalization == \"point-wise\":\n",
    "#             P = sp.diags(np.asarray(1 / P.sum(axis=1)).ravel()) @ P\n",
    "# \n",
    "#         return P"
   ]
  },
  {
   "cell_type": "markdown",
   "metadata": {},
   "source": [
    "### import multi_nearest_neighbors.py"
   ]
  },
  {
   "cell_type": "markdown",
   "metadata": {},
   "source": [
    "### annparameters.py"
   ]
  },
  {
   "cell_type": "code",
   "execution_count": 274,
   "metadata": {},
   "outputs": [],
   "source": [
    "def init_method_param(method, data=None):\n",
    "    \"\"\"\n",
    "    Get method parameters based on approximate nearest neighbor algorithm and data (shape, vector)\n",
    "    \n",
    "    Input: name of method as string, data as np.array ([num_items][vector_length])\n",
    "    Output: method_param as directory. Keys corresponding to the method-specific parameters\n",
    "    \"\"\"\n",
    "    config_file = \"\"\n",
    "    config_file = None\n",
    "\n",
    "    if method == \"nearpy\":\n",
    "        if not config_file:\n",
    "            mp = {}\n",
    "            \n",
    "            # number of bits, as int\n",
    "            mp['n_bits'] = 20 # ????? How many as standard? \n",
    "            \n",
    "            # hash counts, as int\n",
    "            mp['hash_counts'] = 20 # ????? How many as standard? \n",
    "    \n",
    "    elif method == \"annoy\":\n",
    "\n",
    "        if not config_file:\n",
    "            n_items, vector_length = data.shape\n",
    "            mp = {}\n",
    "            \n",
    "            # number of trees, as int\n",
    "            mp[\"ntrees\"] = 5 + int(round((n_items) ** 0.5 / 20))\n",
    "            \n",
    "    elif method == \"onng\":\n",
    "        \"\"\"\n",
    "        https://github.com/yahoojapan/NGT/blob/master/python/README-ngtpy.md\n",
    "        \n",
    "        object_type: Specifies the data object type.\n",
    "            c: 1 byte unsigned integer\n",
    "            f: 4 byte floating point number (default)\n",
    "        \n",
    "        \n",
    "        \"\"\"\n",
    "        \n",
    "        if not config_file:\n",
    "            mp = {}\n",
    "            mp[\"object_type\"] = \"f\"\n",
    "            \n",
    "            mp[\"edge_size_for_search\"] = -2\n",
    "            \n",
    "            mp[\"build_time_limit\"] = 4\n",
    "            \n",
    "            mp[\"epsilon\"] = 10\n",
    "            \n",
    "            mp[\"edge\"] = 100\n",
    "            \n",
    "            mp[\"outdegree\"] = 10\n",
    "            \n",
    "            mp[\"indegree\"] = 120\n",
    "    \n",
    "    elif method == \"hnsw\" or method == \"sw-graph\" or method == \"vp-tree\" or \\\n",
    "         method == \"napp\" or method == \"simple_invindx\" or method == \"brute_force\": \n",
    "        import os\n",
    "        \n",
    "        #@staticmethod\n",
    "        #def encode(d):\n",
    "        #    return [\"%s=%s\" % (a, b) for (a, b) in d.iteritems()]\n",
    "        \n",
    "        if not config_file:\n",
    "            mp = {}\n",
    "            \n",
    "            #mp[\"method_name\"] = \"hnsw\"\n",
    "            #mp[\"save_index\"] = False\n",
    "            M = 15\n",
    "            efC = 100\n",
    "            mp[\"index_param\"] = {'M': M, 'efConstruction': efC, 'post' : 0}\n",
    "            #mp[\"index_param\"] = encode(mp[\"index_param\"])\n",
    "            mp[\"efS\"] = 100\n",
    "            #mp['query_param'] = {'efSearch': efS}\n",
    "            \n",
    "            #if mp['query_param'] is not False:\n",
    "            #    mp['query_param'] = encode(mp[\"query_param\"])\n",
    "            #    mp['name'] = ('Nmslib(method_name={}, index_param={}, '\n",
    "            #             'query_param={})'.format(mp[\"method_name\"],\n",
    "            #                                      mp[\"index_param\"],\n",
    "            #                                      mp[\"query_param\"]))\n",
    "            #else:\n",
    "            #    mp['query_param'] = False\n",
    "            #    mp['name'] = 'Nmslib(method_name=%s, index_param=%s)' % (\n",
    "            #        mp[\"method_name\"], mp[\"index_param\"])\n",
    "            \n",
    "            \n",
    "    else:\n",
    "        print(\"Error: ANN for init_method_param not found\")\n",
    "        return \n",
    "        \n",
    "    return mp"
   ]
  },
  {
   "cell_type": "code",
   "execution_count": 275,
   "metadata": {
    "scrolled": true
   },
   "outputs": [
    {
     "name": "stdout",
     "output_type": "stream",
     "text": [
      "{'index_param': {'M': 15, 'efConstruction': 100, 'post': 0}, 'efS': 100}\n"
     ]
    }
   ],
   "source": [
    "print(init_method_param(\"hnsw\"))"
   ]
  },
  {
   "cell_type": "markdown",
   "metadata": {},
   "source": [
    "### NMSLIB"
   ]
  },
  {
   "cell_type": "code",
   "execution_count": 288,
   "metadata": {},
   "outputs": [],
   "source": [
    "import nmslib\n",
    "import os\n",
    "import numpy as np\n",
    "\n",
    "class Nmslib(KNNIndex):\n",
    "    #def __init__(self, method):\n",
    "    #    super(Nmslib, self).__init__()\n",
    "    #    self._method_name = method\n",
    "    \n",
    "    #VALID_METRICS = neighbors.Nmslib.valid_metrics\n",
    "    __\n",
    "    \n",
    "    def build(self, data):\n",
    "        n_items, vector_length = data.shape\n",
    "        #self._method_name = \"hnsw\"\n",
    "        #initalize parameters\n",
    "        method_param = init_method_param(\"nmslib\", data)\n",
    "        \n",
    "        \n",
    "        #self._save_index = method_param[\"save_index\"]\n",
    "        self._index_param = method_param[\"index_param\"]\n",
    "        self._index_param[\"indexThreadQty\"] = self.n_jobs \n",
    "        self._query_param = method_param[\"query_param\"]\n",
    "        #self._name = mp['name']\n",
    "        ef = mp['efS']\n",
    "        self._metric = {\n",
    "        'angular': 'cosinesimil', 'euclidean': 'l2'}[self.metric]\n",
    "        \n",
    "        #create dir\n",
    "        #self._index_name = os.path.join(INDEX_DIR, \"nmslib_%s_%s_%s\" % (\n",
    "        #    self._method_name, self.metric, '_'.join(self._index_param)))\n",
    "\n",
    "        #d = os.path.dirname(self._index_name)\n",
    "        #if not os.path.exists(d):\n",
    "        #    os.makedirs(d)\n",
    "\n",
    "        #fit\n",
    "        if self._method_name == 'vptree':\n",
    "            # To avoid this issue: terminate called after throwing an instance\n",
    "            # of 'std::runtime_error'\n",
    "            # what():  The data size is too small or the bucket size is too\n",
    "            # big. Select the parameters so that <total # of records> is NOT\n",
    "            # less than <bucket size> * 1000\n",
    "            # Aborted (core dumped)\n",
    "            self._index_param.append('bucketSize=%d' %\n",
    "                                     min(int(data.shape[0] * 0.0005), 1000))\n",
    "\n",
    "        self.index = nmslib.init(\n",
    "            space=self._metric, method=self._method_name, data_type=nmslib.DataType.DENSE_VECTOR, dtype=nmslib.DistType.FLOAT)\n",
    "        self.index.addDataPointBatch(data)\n",
    "\n",
    "        #if os.path.exists(self._index_name):\n",
    "        #    print('Loading index from file')\n",
    "        #    self._index.loadIndex(self._index_name)\n",
    "        #else:\n",
    "        self.index.createIndex(self._index_param)\n",
    "        #    if self._save_index:\n",
    "        #        self.index.saveIndex(self._index_name)\n",
    "        if self._query_param is not None:\n",
    "            self.index.setQueryTimeParams(self._query_param)\n",
    "    \n",
    "        #set query arguments\n",
    "        if self._method_name == 'hnsw' or self._method_name == 'sw-graph':\n",
    "            self.index.setQueryTimeParams([\"efSearch=%s\" % (ef)])\n",
    "\n",
    "    def query_train(self, data, k):\n",
    "        result = np.asarray(self.index.knnQueryBatch(data, k))\n",
    "        #for i in \n",
    "        #print(self.res)\n",
    "        #return self.res\n",
    "        neighbors = np.empty((data.shape[0],k), dtype=int)\n",
    "        distances = np.empty((data.shape[0],k))\n",
    "        for i in range(len(data)):\n",
    "            neighbors[i] = result[i][0] \n",
    "            distances[i] = result[i][1]\n",
    "        return neighbors, distances\n",
    "    \n",
    "    def query(self, query, k):\n",
    "        result = np.asarray(self.index.knnQueryBatch(query, k))\n",
    "        #for i in \n",
    "        #print(self.res)\n",
    "        #return self.res\n",
    "        neighbors = np.empty((query.shape[0],k), dtype=int)\n",
    "        distances = np.empty((query.shape[0],k))\n",
    "        for i in range(len(query)):\n",
    "            neighbors[i] = result[i][0] \n",
    "            distances[i] = result[i][1]\n",
    "        return neighbors, distances\n",
    "\n",
    "class Hnsw(Nmslib):\n",
    "    def __init__(self):\n",
    "        super(Hnsw, self).__init__()\n",
    "        self._method_name = \"hnsw\"\n",
    "        \n",
    "class SWGraph(Nmslib):\n",
    "    def __init__(self):\n",
    "        super(Hnsw, self).__init__()\n",
    "        self._method_name = \"sw-graph\""
   ]
  },
  {
   "cell_type": "code",
   "execution_count": 290,
   "metadata": {},
   "outputs": [
    {
     "ename": "TypeError",
     "evalue": "__init__() got an unexpected keyword argument 'metric'",
     "output_type": "error",
     "traceback": [
      "\u001b[0;31m---------------------------------------------------------------------------\u001b[0m",
      "\u001b[0;31mTypeError\u001b[0m                                 Traceback (most recent call last)",
      "\u001b[0;32m<ipython-input-290-41e51d3c71c0>\u001b[0m in \u001b[0;36m<module>\u001b[0;34m\u001b[0m\n\u001b[1;32m      5\u001b[0m     \u001b[0mmetric\u001b[0m\u001b[0;34m=\u001b[0m\u001b[0;34m\"euclidean\"\u001b[0m\u001b[0;34m,\u001b[0m\u001b[0;34m\u001b[0m\u001b[0;34m\u001b[0m\u001b[0m\n\u001b[1;32m      6\u001b[0m     \u001b[0mn_jobs\u001b[0m\u001b[0;34m=\u001b[0m\u001b[0;36m8\u001b[0m\u001b[0;34m,\u001b[0m\u001b[0;34m\u001b[0m\u001b[0;34m\u001b[0m\u001b[0m\n\u001b[0;32m----> 7\u001b[0;31m     \u001b[0mrandom_state\u001b[0m\u001b[0;34m=\u001b[0m\u001b[0;36m42\u001b[0m\u001b[0;34m,\u001b[0m\u001b[0;34m\u001b[0m\u001b[0;34m\u001b[0m\u001b[0m\n\u001b[0m\u001b[1;32m      8\u001b[0m )\n\u001b[1;32m      9\u001b[0m \u001b[0;34m\u001b[0m\u001b[0m\n",
      "\u001b[0;32m<ipython-input-287-7cb3caabcdc0>\u001b[0m in \u001b[0;36m__init__\u001b[0;34m(self, data, perplexity, method, metric, metric_params, symmetrize, n_jobs, random_state)\u001b[0m\n\u001b[1;32m     33\u001b[0m \u001b[0;34m\u001b[0m\u001b[0m\n\u001b[1;32m     34\u001b[0m         self.knn_index = build_knn_index(\n\u001b[0;32m---> 35\u001b[0;31m             \u001b[0mdata\u001b[0m\u001b[0;34m,\u001b[0m \u001b[0mmethod\u001b[0m\u001b[0;34m,\u001b[0m \u001b[0mmetric\u001b[0m\u001b[0;34m,\u001b[0m \u001b[0mmetric_params\u001b[0m\u001b[0;34m,\u001b[0m \u001b[0mn_jobs\u001b[0m\u001b[0;34m,\u001b[0m \u001b[0mrandom_state\u001b[0m\u001b[0;34m\u001b[0m\u001b[0;34m\u001b[0m\u001b[0m\n\u001b[0m\u001b[1;32m     36\u001b[0m         )\n\u001b[1;32m     37\u001b[0m \u001b[0;34m\u001b[0m\u001b[0m\n",
      "\u001b[0;32m<ipython-input-287-7cb3caabcdc0>\u001b[0m in \u001b[0;36mbuild_knn_index\u001b[0;34m(data, method, metric, metric_params, n_jobs, random_state)\u001b[0m\n\u001b[1;32m    100\u001b[0m             \u001b[0mmetric_params\u001b[0m\u001b[0;34m=\u001b[0m\u001b[0mmetric_params\u001b[0m\u001b[0;34m,\u001b[0m\u001b[0;34m\u001b[0m\u001b[0;34m\u001b[0m\u001b[0m\n\u001b[1;32m    101\u001b[0m             \u001b[0mn_jobs\u001b[0m\u001b[0;34m=\u001b[0m\u001b[0mn_jobs\u001b[0m\u001b[0;34m,\u001b[0m\u001b[0;34m\u001b[0m\u001b[0;34m\u001b[0m\u001b[0m\n\u001b[0;32m--> 102\u001b[0;31m             \u001b[0mrandom_state\u001b[0m\u001b[0;34m=\u001b[0m\u001b[0mrandom_state\u001b[0m\u001b[0;34m,\u001b[0m\u001b[0;34m\u001b[0m\u001b[0;34m\u001b[0m\u001b[0m\n\u001b[0m\u001b[1;32m    103\u001b[0m         )\n\u001b[1;32m    104\u001b[0m \u001b[0;34m\u001b[0m\u001b[0m\n",
      "\u001b[0;31mTypeError\u001b[0m: __init__() got an unexpected keyword argument 'metric'"
     ]
    }
   ],
   "source": [
    "affinities_train = MultiANNPerplexityBasedNN(\n",
    "    x,\n",
    "    perplexity=30,\n",
    "    method=\"sw-graph\",\n",
    "    metric=\"euclidean\",\n",
    "    n_jobs=8,\n",
    "    random_state=42,\n",
    ")\n",
    "\n",
    "#possible solution\n",
    "#affinities_train.knn_index = stelmach.build_knn_index()\n",
    "\n",
    "print(\"P:\")\n",
    "print(affinities_train.P)\n",
    "print(\"\")\n",
    "\n",
    "#print(\"data:\")\n",
    "#print(affinities_train.data)\n",
    "#print(\"\")\n",
    "\n",
    "print(\"knn_index:\")\n",
    "print(affinities_train.knn_index)\n",
    "\n",
    "#print(\".index\")\n",
    "#print(affinities_train.index)\n"
   ]
  },
  {
   "cell_type": "markdown",
   "metadata": {},
   "source": [
    "### ONNG:"
   ]
  },
  {
   "cell_type": "code",
   "execution_count": 119,
   "metadata": {},
   "outputs": [
    {
     "ename": "ImportError",
     "evalue": "dlopen(/Library/Frameworks/Python.framework/Versions/3.7/lib/python3.7/site-packages/ngtpy.cpython-37m-darwin.so, 2): Library not loaded: /usr/local/opt/gcc/lib/gcc/8/libgomp.1.dylib\n  Referenced from: /Library/Frameworks/Python.framework/Versions/3.7/lib/python3.7/site-packages/ngtpy.cpython-37m-darwin.so\n  Reason: image not found",
     "output_type": "error",
     "traceback": [
      "\u001b[0;31m---------------------------------------------------------------------------\u001b[0m",
      "\u001b[0;31mImportError\u001b[0m                               Traceback (most recent call last)",
      "\u001b[0;32m<ipython-input-119-6d1e2d2d4ad1>\u001b[0m in \u001b[0;36m<module>\u001b[0;34m\u001b[0m\n\u001b[1;32m      1\u001b[0m \u001b[0;31m#from __future__ import absolute_import\u001b[0m\u001b[0;34m\u001b[0m\u001b[0;34m\u001b[0m\u001b[0;34m\u001b[0m\u001b[0m\n\u001b[0;32m----> 2\u001b[0;31m \u001b[0;32mimport\u001b[0m \u001b[0mngtpy\u001b[0m\u001b[0;34m\u001b[0m\u001b[0;34m\u001b[0m\u001b[0m\n\u001b[0m\u001b[1;32m      3\u001b[0m \u001b[0;32mimport\u001b[0m \u001b[0mnumpy\u001b[0m \u001b[0;32mas\u001b[0m \u001b[0mnp\u001b[0m\u001b[0;34m\u001b[0m\u001b[0;34m\u001b[0m\u001b[0m\n\u001b[1;32m      4\u001b[0m \u001b[0;32mimport\u001b[0m \u001b[0mos\u001b[0m\u001b[0;34m\u001b[0m\u001b[0;34m\u001b[0m\u001b[0m\n\u001b[1;32m      5\u001b[0m \u001b[0;32mimport\u001b[0m \u001b[0msubprocess\u001b[0m\u001b[0;34m\u001b[0m\u001b[0;34m\u001b[0m\u001b[0m\n",
      "\u001b[0;31mImportError\u001b[0m: dlopen(/Library/Frameworks/Python.framework/Versions/3.7/lib/python3.7/site-packages/ngtpy.cpython-37m-darwin.so, 2): Library not loaded: /usr/local/opt/gcc/lib/gcc/8/libgomp.1.dylib\n  Referenced from: /Library/Frameworks/Python.framework/Versions/3.7/lib/python3.7/site-packages/ngtpy.cpython-37m-darwin.so\n  Reason: image not found"
     ]
    }
   ],
   "source": [
    "#from __future__ import absolute_import\n",
    "import ngtpy\n",
    "import numpy as np\n",
    "import os\n",
    "import subprocess\n",
    "\n",
    "class ONNG(KNNIndex):\n",
    "    #VALID_METRICS = neighbors.ONNG.valid_metrics\n",
    "    \n",
    "    def build(self, data):\n",
    "        #metrics = {'euclidean': '2', 'angular': 'C'}\n",
    "        method_param = init_method_param(\"onng\")\n",
    "        n_items, dim = data.shape \n",
    "        self._edge_size = method_param[\"edge\"]\n",
    "        self._outdegree = method_param[\"outdegree\"]\n",
    "        self._indegree = method_param[\"indegree\"]\n",
    "        self._object_type = method_param[\"object_type\"]\n",
    "        self._edge_size_for_search = method_param[\"edge_size_for_search\"]\n",
    "        self._build_time_limit = method_param[\"build_time_limit\"]\n",
    "        self._epsilon = method_param[\"epsilon\"]\n",
    "            \n",
    "            \n",
    "            \n",
    "        print('ONNG: start indexing...')\n",
    "        print('ONNG: # of data=' + str(len(data)))\n",
    "        print('ONNG: dimensionality=' + str(dim))\n",
    "        index_dir = 'indexes'\n",
    "        if not os.path.exists(index_dir):\n",
    "            os.makedirs(index_dir)\n",
    "        index = os.path.join(\n",
    "            index_dir,\n",
    "            'ONNG-{}-{}-{}'.format(self._edge_size, self._outdegree,\n",
    "                                   self._indegree))\n",
    "        anngIndex = os.path.join(index_dir, 'ANNG-' + str(self._edge_size))\n",
    "        print('ONNG: index=' + index)\n",
    "        if (not os.path.exists(index)) and (not os.path.exists(anngIndex)):\n",
    "            print('ONNG: create ANNG')\n",
    "            t = time.time()\n",
    "            args = ['ngt', 'create', '-it', '-p8', '-b500', '-ga', '-of',\n",
    "                    '-D' + self.metric, '-d' + str(dim),\n",
    "                    '-E' + str(self._edge_size), '-S0',\n",
    "                    '-e' + str(self._epsilon), '-P0', '-B30',\n",
    "                    '-T' + str(self._build_time_limit), anngIndex]\n",
    "            subprocess.call(args)\n",
    "            idx = ngt.Index(path=anngIndex)\n",
    "            idx.batch_insert(data, num_threads=24, debug=False)\n",
    "            idx.save()\n",
    "            idx.close()\n",
    "            print('ONNG: ANNG construction time(sec)=' + str(time.time() - t))\n",
    "        if not os.path.exists(index):\n",
    "            print('ONNG: degree adjustment')\n",
    "            t = time.time()\n",
    "            args = ['ngt', 'reconstruct-graph', '-mS',\n",
    "                    '-o ' + str(self._outdegree),\n",
    "                    '-i ' + str(self._indegree), anngIndex, index]\n",
    "            subprocess.call(args)\n",
    "            print('ONNG: degree adjustment time(sec)=' + str(time.time() - t))\n",
    "        if os.path.exists(index):\n",
    "            print('ONNG: index already exists! ' + str(index))\n",
    "            t = time.time()\n",
    "            self.index = ngt.Index(index, read_only=True)\n",
    "            self.indexName = index\n",
    "            print('ONNG: open time(sec)=' + str(time.time() - t))\n",
    "        else:\n",
    "            print('ONNG: something wrong.')\n",
    "        print('ONNG: end of fit')\n",
    "        \n",
    "    \n",
    "    def query_train(self, data, k):\n",
    "        results = self.index.search(\n",
    "            data, k, self._epsilon, self._edge_size_for_search,\n",
    "            with_distance=False)\n",
    "        return results\n",
    "    \n",
    "    \"\"\"\n",
    "    def query_train(self, data, k):    \n",
    "        neighbors, distances = self.index.search(\n",
    "            v, k, self._epsilon, self._edge_size_for_search,\n",
    "            with_distance=False)\n",
    "        return neighbors, distances\n",
    "        \n",
    "        \n",
    "    def query(self, query, k):\n",
    "        #check in what format results are, get neighbors, distances\n",
    "        neighbors, distances = self.index.search(\n",
    "            v, k, self._epsilon, self._edge_size_for_search,\n",
    "            with_distance=False)\n",
    "        return neighbors, distances\n",
    "    \"\"\""
   ]
  },
  {
   "cell_type": "markdown",
   "metadata": {},
   "source": [
    "### FLANN:"
   ]
  },
  {
   "cell_type": "code",
   "execution_count": 126,
   "metadata": {},
   "outputs": [
    {
     "ename": "ModuleNotFoundError",
     "evalue": "No module named 'pyflann'",
     "output_type": "error",
     "traceback": [
      "\u001b[0;31m---------------------------------------------------------------------------\u001b[0m",
      "\u001b[0;31mModuleNotFoundError\u001b[0m                       Traceback (most recent call last)",
      "\u001b[0;32m<ipython-input-126-104417a4c19e>\u001b[0m in \u001b[0;36m<module>\u001b[0;34m\u001b[0m\n\u001b[0;32m----> 1\u001b[0;31m \u001b[0;32mimport\u001b[0m \u001b[0mpyflann\u001b[0m\u001b[0;34m\u001b[0m\u001b[0;34m\u001b[0m\u001b[0m\n\u001b[0m\u001b[1;32m      2\u001b[0m \u001b[0;34m\u001b[0m\u001b[0m\n\u001b[1;32m      3\u001b[0m \u001b[0;32mclass\u001b[0m \u001b[0mFLANN\u001b[0m\u001b[0;34m(\u001b[0m\u001b[0mKNNIndex\u001b[0m\u001b[0;34m)\u001b[0m\u001b[0;34m:\u001b[0m\u001b[0;34m\u001b[0m\u001b[0;34m\u001b[0m\u001b[0m\n\u001b[1;32m      4\u001b[0m     \u001b[0;31m#VALID_METRICS = neighbors.Flann.valid_metrics\u001b[0m\u001b[0;34m\u001b[0m\u001b[0;34m\u001b[0m\u001b[0;34m\u001b[0m\u001b[0m\n\u001b[1;32m      5\u001b[0m \u001b[0;34m\u001b[0m\u001b[0m\n",
      "\u001b[0;31mModuleNotFoundError\u001b[0m: No module named 'pyflann'"
     ]
    }
   ],
   "source": [
    "import pyflann\n",
    "\n",
    "class FLANN(KNNIndex):\n",
    "    #VALID_METRICS = neighbors.Flann.valid_metrics\n",
    "    \n",
    "    def build(self, data):\n",
    "        #parameters init\n",
    "        if self.method_param == None:\n",
    "            self.method_param = {}\n",
    "            self.method_param['target_precision'] = 0.9  # want 90% target precision  \n",
    "        self._metric = metric\n",
    "        \n",
    "        self.index = pyflann.FLANN(\n",
    "            target_precision=self._target_precision,\n",
    "            algorithm='autotuned', \n",
    "            log_level='info')\n",
    "        if self._metric == 'angular':\n",
    "            data = sklearn.preprocessing.normalize(data, axis=1, norm='l2')\n",
    "        self.index.build_index(data)\n",
    "\n",
    "\n",
    "###### \n",
    "    def query_train(self, data, k):\n",
    "        if self._metric == 'angular':\n",
    "            v = sklearn.preprocessing.normalize([v], axis=1, norm='l2')[0]\n",
    "        if v.dtype != numpy.float32:\n",
    "            v = v.astype(numpy.float32)\n",
    "        return self._flann.nn_index(v, n)[0][0]\n",
    "\n",
    "    def query(self, query, k):\n",
    "        if self._metric == 'angular':\n",
    "            v = sklearn.preprocessing.normalize([v], axis=1, norm='l2')[0]\n",
    "        if v.dtype != numpy.float32:\n",
    "            v = v.astype(numpy.float32)\n",
    "        return self._flann.nn_index(v, n)[0][0]"
   ]
  },
  {
   "cell_type": "markdown",
   "metadata": {},
   "source": [
    "### RPForest:"
   ]
  },
  {
   "cell_type": "code",
   "execution_count": null,
   "metadata": {},
   "outputs": [],
   "source": [
    "import rpforest\n",
    "import numpy\n",
    "\n",
    "\n",
    "class RPForest(KNNIndex):\n",
    "    #VALID_METRICS = neighbors.Annoy.valid_metrics\n",
    "    \n",
    "    def build(self, data):\n",
    "        n_trees = 5 + int(round((data.shape[0]) ** 0.5 / 20))\n",
    "        #n_iters = max(5, int(round(np.log2(data.shape[0]))))\n",
    "        leaf_size = ?\n",
    "        \n",
    "        self.index = rpforest.RPForest(leaf_size=leaf_size, no_trees=n_trees)\n",
    "        \n",
    "        #if data.dtype != numpy.double:\n",
    "        #    data = numpy.array(data).astype(numpy.double)\n",
    "        self.index.fit(data)\n",
    "\n",
    "    def query_train(self, data, k):\n",
    "        neighbors, distances = self._model.query(data[0], k)\n",
    "        return neighbors, distances\n",
    "\n",
    "    def query(self, query, k):\n",
    "        neighbors, distances = self._model.query(data[0], k)\n",
    "        return neighbors, distances"
   ]
  },
  {
   "cell_type": "markdown",
   "metadata": {},
   "source": [
    "### Hnswlib:"
   ]
  },
  {
   "cell_type": "code",
   "execution_count": null,
   "metadata": {},
   "outputs": [],
   "source": [
    "%time\n",
    "\n",
    "import hnswlib\n",
    "import numpy as np\n",
    "\n",
    "\n",
    "class HnswLib(KNNIndex):\n",
    "    #VALID_METRICS = neighbors.Annoy.valid_metrics\n",
    "    \n",
    "    def build(self,data):  \n",
    "        #parameter init\n",
    "        #self.metric = {'angular': 'cosine', 'euclidean': 'l2'}[metric]\n",
    "        if self.method_param == None:\n",
    "            self.method_param = {}\n",
    "            self.method_param[\"efConstruction\"] = 200\n",
    "            self.method_param[\"M\"] = 16\n",
    "            self.method_param[\"efRecall\"] = 10\n",
    "            #self.name = 'hnswlib (%s)' % (self.method_param)\n",
    "        \n",
    "        \n",
    "        self.index = hnswlib.Index(space=self.metric, dim=len(data[0]))\n",
    "        self.index.init_index(max_elements=len(data),\n",
    "                          ef_construction=self.method_param[\"efConstruction\"],\n",
    "                          M=self.method_param[\"M\"])\n",
    "        data_labels = np.arange(len(data))\n",
    "        self.index.add_items(np.asarray(data), data_labels)\n",
    "        self.index.set_num_threads(self.n_jobs)\n",
    "        self.index.set_ef(self.method_param[\"efRecall\"])\n",
    "\n",
    "    def query(self, query, k):\n",
    "        neighbors, distances = self.index.knn_query(query, k=k)\n",
    "        return neighbors, distances\n",
    "    \n",
    "    def query_train(self, data, k):\n",
    "        neighbors, distances = self.index.knn_query(data, k=k)\n",
    "        return neighbors, distances"
   ]
  },
  {
   "cell_type": "markdown",
   "metadata": {},
   "source": [
    "### NearPy"
   ]
  },
  {
   "cell_type": "code",
   "execution_count": 81,
   "metadata": {},
   "outputs": [],
   "source": [
    "from openTSNE.nearest_neighbors import KNNIndex\n",
    "import nearpy\n",
    "from nearpy.filters import NearestFilter\n",
    "import sklearn.preprocessing\n",
    "\n",
    "class NearPy(KNNIndex):\n",
    "    #VALID_METRICS = neighbors.NearPy.valid_metrics\n",
    "    #METHOD_PARAMS = neighbors.NearPy.params (text/config file)\n",
    "    \n",
    "    def build(self, data): \n",
    "        n_items, vector_length = data.shape\n",
    "        print(data.shape)\n",
    "        #parameters init\n",
    "        method_param = init_method_param(\"nearpy\")\n",
    "        hash_counts = method_param[\"hash_counts\"]\n",
    "        n_bits = method_param[\"n_bits\"]\n",
    "        \n",
    "        self.filter = NearestFilter(10)\n",
    "        \n",
    "        hashes = []\n",
    "        for k in range(hash_counts):\n",
    "            nearpy_rbp = nearpy.hashes.RandomBinaryProjections(\n",
    "                'rbp_%d' % k, n_bits)\n",
    "            hashes.append(nearpy_rbp)\n",
    "\n",
    "        if self.metric == 'euclidean':\n",
    "            dist = nearpy.distances.EuclideanDistance()\n",
    "            self.index = nearpy.Engine(\n",
    "                vector_length,\n",
    "                lshashes=hashes,\n",
    "                distance=dist,\n",
    "                vector_filters=[self.filter])\n",
    "        else:  # Default (angular) = Cosine distance\n",
    "            self.index = nearpy.Engine(\n",
    "                vector_length,\n",
    "                lshashes=hashes,\n",
    "                vector_filters=[self.filter])\n",
    "            \n",
    "        #if self.metric == 'angular':\n",
    "            #data = sklearn.preprocessing.normalize(data, axis=1, norm='l2')\n",
    "        for i, x in enumerate(data):\n",
    "            self.index.store_vector(x, i)\n",
    "            \n",
    "    def query_train(self, data, k):\n",
    "        self.filter.N = k\n",
    "        #if self.metric == 'angular':\n",
    "            #data = sklearn.preprocessing.normalize([data], axis=1, norm='l2')[0]\n",
    "        \n",
    "        neighbors = np.empty((data.shape[0],k), dtype=int)\n",
    "        distances = np.empty((data.shape[0],k))\n",
    "        \n",
    "        for i in range(len(data)):\n",
    "            item_single = self.index.neighbours(data[i])\n",
    "            dp_n = []\n",
    "            dp_d = []\n",
    "            for j in range(len(item_single)):\n",
    "                dp_n.append(item_single[j][1])\n",
    "                dp_d.append(item_single[j][2])\n",
    "            neighbors[i] = np.asarray(dp_n)\n",
    "            distances[i] = np.asarray(dp_d)\n",
    "            \n",
    "        return neighbors, distances\n",
    "\n",
    "    def query(self, query, k):\n",
    "        self.filter.N = k\n",
    "        #if self.metric == 'angular':\n",
    "        #    query = sklearn.preprocessing.normalize([query], axis=1, norm='l2')[0]\n",
    "        neighbors = np.empty((query.shape[0],k), dtype=int)\n",
    "        distances = np.empty((query.shape[0],k))\n",
    "        \n",
    "        for i in range(len(query)):\n",
    "            item_single = self.index.neighbours(data[i])\n",
    "            dp_n = []\n",
    "            dp_d = []\n",
    "            for j in range(len(item_single)):\n",
    "                dp_n.append(item_single[j][1])\n",
    "                dp_d.append(item_single[j][2])\n",
    "            neighbors[i] = np.asarray(dp_n)\n",
    "            distances[i] = np.asarray(dp_d)\n",
    "            \n",
    "        return neighbors, distances"
   ]
  },
  {
   "cell_type": "markdown",
   "metadata": {},
   "source": [
    "### Annoy:"
   ]
  },
  {
   "cell_type": "code",
   "execution_count": 88,
   "metadata": {},
   "outputs": [],
   "source": [
    "from openTSNE.nearest_neighbors import KNNIndex\n",
    "import annoy\n",
    "import numpy as np\n",
    "\n",
    "class Annoy(KNNIndex):\n",
    "    #VALID_METRICS = neighbors.Annoy.valid_metrics\n",
    "    \n",
    "    def build(self, data):\n",
    "        n_items, vector_length = data.shape\n",
    "        #initalize parameters\n",
    "        method_param = init_method_param(\"annoy\", data)\n",
    "        ntrees = method_param[\"ntrees\"]\n",
    "        #build index\n",
    "        self.index = annoy.AnnoyIndex(vector_length, metric=self.metric)\n",
    "        for i in range(n_items):\n",
    "            self.index.add_item(i, data[i])\n",
    "        self.index.build(ntrees)\n",
    "        \n",
    "    def query_train(self, data, k):\n",
    "        #add search_k parameter: tradeoff between speed and accuracy?\n",
    "        #neighbors_single, distances_single = np.asarray(self.index.get_nns_by_vector(data[i], n=k, search_k=-1, include_distances=True))\n",
    "        #output array with points x neighbors:\n",
    "        neighbors = np.empty((data.shape[0],k), dtype=int)\n",
    "        distances = np.empty((data.shape[0],k))\n",
    "        for i in range(len(data)):\n",
    "            neighbors_single, distances_single = np.asarray(self.index.get_nns_by_item(i, n=k, search_k=-1 ,include_distances=True))\n",
    "            neighbors[i] = neighbors_single\n",
    "            distances[i] = distances_single\n",
    "        print(\"neighbors.shape: {}\".format(neighbors.shape))\n",
    "        print(\"neighbors[0]: {}\".format(neighbors[0]))\n",
    "        print(neighbors.shape)\n",
    "        print(\"distances.shape: {}\".format(distances.shape))\n",
    "        print(\"distances[0]: {}\".format(distances[0]))\n",
    "        return neighbors, distances\n",
    "\n",
    "    def query(self, query, k):\n",
    "        neighbors = np.empty((query.shape[0],k), dtype=int)\n",
    "        distances = np.empty((query.shape[0],k))\n",
    "        for i in range(len(query)):\n",
    "            neighbors_single, distances_single = np.asarray(self.index.get_nns_by_vector(query[i], n=k, search_k=-1, include_distances=True))\n",
    "            neighbors[i] = neighbors_single\n",
    "            distances[i] = distances_single\n",
    "        return neighbors, distances"
   ]
  },
  {
   "cell_type": "code",
   "execution_count": 214,
   "metadata": {},
   "outputs": [],
   "source": [
    "### Test:"
   ]
  },
  {
   "cell_type": "code",
   "execution_count": 215,
   "metadata": {
    "scrolled": true
   },
   "outputs": [
    {
     "name": "stdout",
     "output_type": "stream",
     "text": [
      "neighbors.shape: (150, 90)\n",
      "neighbors[0]: [  0  17   4  28  27  39   7  40  49  37  21  48  26  19  46  11  35  10\n",
      "  31  36  20  34  43   9  23   2   6  30   1  29  25  16  47  12  24  45\n",
      "  44   5  32  22   3  18  42  33  38  14   8  13  15  41  98  57  93  79\n",
      "  64  81  60  80  69  59  82  88  67  92  89  99  95  71  53  96  62  94\n",
      "  61  90  97  84  55  74  66  85  78 106  91  75  51  87  65  73  63  58]\n",
      "(150, 90)\n",
      "distances.shape: (150, 90)\n",
      "distances[0]: [0.         0.10000001 0.14142123 0.14142123 0.1414213  0.1414213\n",
      " 0.17320499 0.17320505 0.2236068  0.24494879 0.30000004 0.30000022\n",
      " 0.31622773 0.33166245 0.36055511 0.37416551 0.37416565 0.37416592\n",
      " 0.38729846 0.41231066 0.43589005 0.45825756 0.45825759 0.46904159\n",
      " 0.46904165 0.509902   0.51961523 0.5385164  0.5385164  0.53851658\n",
      " 0.54772258 0.5477227  0.58309519 0.59160781 0.59160781 0.59160781\n",
      " 0.61644137 0.61644155 0.62449968 0.64807403 0.64807415 0.74161977\n",
      " 0.76811439 0.80622566 0.86602527 0.88317627 0.92195427 0.99498719\n",
      " 1.10453606 1.34907377 2.09045458 2.34520769 2.38746715 2.49399257\n",
      " 2.5806973  2.70185137 2.70370102 2.81780052 2.88270712 2.88790584\n",
      " 2.89482307 2.99999976 3.0099833  3.0099833  3.0215888  3.05777693\n",
      " 3.074085   3.07571125 3.09354162 3.12569952 3.14642644 3.15277624\n",
      " 3.22800231 3.31209898 3.3451457  3.41174436 3.41613817 3.41613841\n",
      " 3.43511271 3.51994324 3.53128862 3.59165692 3.59583068 3.59722114\n",
      " 3.61662817 3.61801076 3.62767124 3.65786791 3.69999957 3.74966645]\n",
      "P:\n",
      "  (0, 58)\t1.1123856191126478e-48\n",
      "  (0, 63)\t1.629381818051472e-47\n",
      "  (0, 73)\t1.5443295993298925e-46\n",
      "  (0, 65)\t7.618908252567122e-46\n",
      "  (0, 87)\t1.2659956581135655e-45\n",
      "  (0, 51)\t1.361279451433849e-45\n",
      "  (0, 75)\t3.7587606280968164e-45\n",
      "  (0, 91)\t4.041633163961909e-45\n",
      "  (0, 106)\t5.024286834345004e-45\n",
      "  (0, 78)\t1.1373116778461108e-43\n",
      "  (0, 85)\t2.0320429640373955e-43\n",
      "  (0, 66)\t1.4684333760073635e-41\n",
      "  (0, 74)\t3.770849500982889e-41\n",
      "  (0, 55)\t3.7708940636562237e-41\n",
      "  (0, 84)\t4.687778032095442e-41\n",
      "  (0, 97)\t1.2268324422718476e-39\n",
      "  (0, 90)\t6.052593783026402e-39\n",
      "  (0, 61)\t3.2721531985417874e-37\n",
      "  (0, 94)\t1.0645757646313081e-35\n",
      "  (0, 62)\t1.4229865461859848e-35\n",
      "  (0, 96)\t3.654254097655959e-35\n",
      "  (0, 53)\t1.55931299641511e-34\n",
      "  (0, 71)\t3.463470407810223e-34\n",
      "  (0, 95)\t3.724106684873443e-34\n",
      "  (0, 99)\t7.692885885901127e-34\n",
      "  :\t:\n",
      "  (149, 66)\t7.330878315897751e-05\n",
      "  (149, 116)\t7.599730076727377e-05\n",
      "  (149, 78)\t7.033520848381596e-05\n",
      "  (149, 56)\t0.00010558619198568894\n",
      "  (149, 91)\t8.089484542949024e-05\n",
      "  (149, 110)\t0.00010514943370423587\n",
      "  (149, 146)\t0.00012319205315800593\n",
      "  (149, 137)\t0.00012026321604423454\n",
      "  (149, 103)\t0.00013056033586095764\n",
      "  (149, 114)\t0.00021544346852801004\n",
      "  (149, 147)\t0.0001061385506654824\n",
      "  (149, 111)\t0.00012617327534216203\n",
      "  (149, 63)\t0.00011659041473327155\n",
      "  (149, 113)\t0.0002226519553219883\n",
      "  (149, 133)\t0.00019368156378631995\n",
      "  (149, 123)\t0.00018253938249201694\n",
      "  (149, 126)\t0.0002449212382791976\n",
      "  (149, 121)\t0.0003351397451320423\n",
      "  (149, 83)\t0.0003792148904964361\n",
      "  (149, 70)\t0.0004211395245416383\n",
      "  (149, 142)\t0.0004301334718734168\n",
      "  (149, 101)\t0.0004301334718734168\n",
      "  (149, 138)\t0.0004307341317329757\n",
      "  (149, 127)\t0.00046861379804921465\n",
      "  (149, 149)\t0.00069446280453884\n",
      "\n",
      "knn_index:\n",
      "<__main__.Annoy object at 0x125ba7908>\n"
     ]
    }
   ],
   "source": [
    "affinities_train = MultiANNPerplexityBasedNN(\n",
    "    x,\n",
    "    perplexity=30,\n",
    "    method=\"annoy\",\n",
    "    metric=\"euclidean\",\n",
    "    n_jobs=8,\n",
    "    random_state=42,\n",
    ")\n",
    "\n",
    "#possible solution\n",
    "#affinities_train.knn_index = stelmach.build_knn_index()\n",
    "\n",
    "print(\"P:\")\n",
    "print(affinities_train.P)\n",
    "print(\"\")\n",
    "\n",
    "#print(\"data:\")\n",
    "#print(affinities_train.data)\n",
    "#print(\"\")\n",
    "\n",
    "print(\"knn_index:\")\n",
    "print(affinities_train.knn_index)\n",
    "\n",
    "#print(\".index\")\n",
    "#print(affinities_train.index)\n"
   ]
  },
  {
   "cell_type": "markdown",
   "metadata": {
    "scrolled": true
   },
   "source": [
    "affinities_train = MultiANNPerplexityBasedNN(\n",
    "    x,\n",
    "    perplexity=30,\n",
    "    method=\"approx\",\n",
    "    metric=\"euclidean\",\n",
    "    n_jobs=8,\n",
    "    random_state=42,\n",
    ")\n",
    "\n",
    "#possible solution\n",
    "#affinities_train.knn_index = stelmach.build_knn_index()\n",
    "\n",
    "print(\"P:\")\n",
    "print(affinities_train.P)\n",
    "print(\"\")\n",
    "\n",
    "#print(\"data:\")\n",
    "#print(affinities_train.data)\n",
    "#print(\"\")\n",
    "\n",
    "print(\"knn_index:\")\n",
    "print(affinities_train.knn_index)\n",
    "\n",
    "#print(\".index\")\n",
    "#print(affinities_train.index)\n"
   ]
  },
  {
   "cell_type": "markdown",
   "metadata": {},
   "source": [
    "**2. Generate initial coordinates for our embedding**"
   ]
  },
  {
   "cell_type": "code",
   "execution_count": 72,
   "metadata": {},
   "outputs": [
    {
     "name": "stdout",
     "output_type": "stream",
     "text": [
      "CPU times: user 1.23 ms, sys: 331 µs, total: 1.56 ms\n",
      "Wall time: 1.28 ms\n"
     ]
    }
   ],
   "source": [
    "%time init_train = initialization.pca(x_train, random_state=42)"
   ]
  },
  {
   "cell_type": "markdown",
   "metadata": {},
   "source": [
    "**3. Construct the `TSNEEmbedding` object**"
   ]
  },
  {
   "cell_type": "code",
   "execution_count": 193,
   "metadata": {},
   "outputs": [
    {
     "name": "stdout",
     "output_type": "stream",
     "text": [
      "CPU times: user 3 µs, sys: 1 µs, total: 4 µs\n",
      "Wall time: 9.06 µs\n",
      "neighbors.shape: (100, 90)\n",
      "neighbors[0]: [ 0 16 88 75 14 66  5 98  2 73 95 25 45 19 70 69 59 27 33 91 68 24 22 39\n",
      " 90 60 61 72 92 42 96 53 93 10 23 48 20 29 79 34  9 40 85 36 62 30 67 43\n",
      " 87 89 63 26 56 65 54 77 83 41 80 81 57 99 49 86 76  8 13 11 94 38 28 12\n",
      " 44 78 15 64 35 37 74  6 51 84 31 50  3  1  7 55 18 82]\n",
      "(100, 90)\n",
      "distances.shape: (100, 90)\n",
      "distances[0]: [0.         0.14142123 0.14142139 0.17320491 0.2236068  0.30000019\n",
      " 0.38729841 0.38729843 0.38729846 0.42426422 0.45825762 0.47958308\n",
      " 0.48989788 0.509902   0.58309525 0.62449968 0.64807415 0.66332495\n",
      " 0.69999981 0.70710713 0.81853515 0.84261501 0.84261531 0.86023283\n",
      " 0.87178022 0.92195469 0.93273818 0.98488593 1.00000024 1.01488936\n",
      " 1.02469504 1.02469552 1.0535655  1.06770825 1.10453618 1.12249744\n",
      " 1.13578188 1.3228755  1.33790851 1.34536254 1.37113082 1.41421342\n",
      " 1.41774499 1.42828584 1.42828584 1.44913816 1.46287405 1.48996663\n",
      " 1.60312212 1.60934794 1.67032969 1.714643   1.88414466 1.88679647\n",
      " 1.94422245 2.01246119 2.05182862 2.18632126 2.20227146 2.21585226\n",
      " 2.28035116 2.34520817 2.41453958 2.62106872 2.68700624 2.69629335\n",
      " 2.72213125 2.74954486 2.79284763 2.84604955 2.85482025 2.91032624\n",
      " 2.93598366 3.0166204  3.01827741 3.02324295 3.0298512  3.03973675\n",
      " 3.04958987 3.09030724 3.09192467 3.11448193 3.11448193 3.12249875\n",
      " 3.12569952 3.16543865 3.20312333 3.20936108 3.21714115 3.22645259]\n",
      "CPU times: user 3 µs, sys: 0 ns, total: 3 µs\n",
      "Wall time: 6.91 µs\n"
     ]
    }
   ],
   "source": [
    "%time \n",
    "affinities_train = MultiANNPerplexityBasedNN(\n",
    "    x_train,\n",
    "    perplexity=30,\n",
    "    method=\"nmslib\",\n",
    "    metric=\"euclidean\",\n",
    "    n_jobs=8,\n",
    "    random_state=42,\n",
    ")\n",
    "\n",
    "\n",
    "%time\n",
    "\n",
    "embedding_train = TSNEEmbedding(\n",
    "    init_train,\n",
    "    affinities_train,\n",
    "    negative_gradient_method=\"fft\",\n",
    "    n_jobs=8,\n",
    "    callbacks=ErrorLogger(),\n",
    ")"
   ]
  },
  {
   "cell_type": "markdown",
   "metadata": {},
   "source": [
    "**4. Optimize embedding**"
   ]
  },
  {
   "cell_type": "markdown",
   "metadata": {},
   "source": [
    "1. Early exaggeration phase"
   ]
  },
  {
   "cell_type": "code",
   "execution_count": 194,
   "metadata": {},
   "outputs": [
    {
     "name": "stdout",
     "output_type": "stream",
     "text": [
      "Iteration   50, KL divergence  1.2881, 50 iterations in 1.6653 sec\n",
      "Iteration  100, KL divergence  1.1896, 50 iterations in 1.6931 sec\n",
      "Iteration  150, KL divergence  1.6848, 50 iterations in 1.9213 sec\n",
      "Iteration  200, KL divergence  1.2953, 50 iterations in 1.8761 sec\n",
      "Iteration  250, KL divergence  1.3981, 50 iterations in 1.8758 sec\n",
      "CPU times: user 8.65 s, sys: 214 ms, total: 8.86 s\n",
      "Wall time: 9.06 s\n"
     ]
    }
   ],
   "source": [
    "%time embedding_train_1 = embedding_train.optimize(n_iter=250, exaggeration=12, momentum=0.5)"
   ]
  },
  {
   "cell_type": "code",
   "execution_count": 195,
   "metadata": {},
   "outputs": [
    {
     "data": {
      "image/png": "[encoded data removed]",
      "text/plain": [
       "<Figure size 576x576 with 1 Axes>"
      ]
     },
     "metadata": {},
     "output_type": "display_data"
    }
   ],
   "source": [
    "import utils\n",
    "\n",
    "utils.plot(embedding_train_1, y_train)"
   ]
  },
  {
   "cell_type": "code",
   "execution_count": 196,
   "metadata": {},
   "outputs": [
    {
     "name": "stdout",
     "output_type": "stream",
     "text": [
      "Iteration   50, KL divergence  0.1272, 50 iterations in 1.5707 sec\n",
      "Iteration  100, KL divergence  0.0306, 50 iterations in 1.6780 sec\n",
      "Iteration  150, KL divergence  0.0240, 50 iterations in 1.7205 sec\n",
      "Iteration  200, KL divergence  0.0014, 50 iterations in 1.6369 sec\n",
      "Iteration  250, KL divergence -0.0031, 50 iterations in 1.4154 sec\n",
      "Iteration  300, KL divergence -0.0037, 50 iterations in 1.7988 sec\n",
      "Iteration  350, KL divergence -0.0035, 50 iterations in 1.6770 sec\n",
      "Iteration  400, KL divergence -0.0046, 50 iterations in 1.5387 sec\n",
      "Iteration  450, KL divergence -0.0052, 50 iterations in 1.5206 sec\n",
      "Iteration  500, KL divergence -0.0046, 50 iterations in 1.4720 sec\n",
      "Iteration  550, KL divergence -0.0043, 50 iterations in 1.6536 sec\n",
      "Iteration  600, KL divergence -0.0048, 50 iterations in 1.4360 sec\n",
      "Iteration  650, KL divergence -0.0049, 50 iterations in 1.3673 sec\n",
      "Iteration  700, KL divergence -0.0047, 50 iterations in 1.3875 sec\n",
      "Iteration  750, KL divergence -0.0049, 50 iterations in 1.4286 sec\n",
      "CPU times: user 22.7 s, sys: 315 ms, total: 23 s\n",
      "Wall time: 23.3 s\n"
     ]
    }
   ],
   "source": [
    "%time embedding_train_2 = embedding_train_1.optimize(n_iter=750, momentum=0.8)"
   ]
  },
  {
   "cell_type": "code",
   "execution_count": 197,
   "metadata": {},
   "outputs": [
    {
     "data": {
      "image/png": "[encoded data removed]",
      "text/plain": [
       "<Figure size 576x576 with 1 Axes>"
      ]
     },
     "metadata": {},
     "output_type": "display_data"
    }
   ],
   "source": [
    "utils.plot(embedding_train_2, y_train)"
   ]
  },
  {
   "cell_type": "markdown",
   "metadata": {},
   "source": [
    "## Transform"
   ]
  },
  {
   "cell_type": "code",
   "execution_count": 198,
   "metadata": {},
   "outputs": [
    {
     "ename": "TypeError",
     "evalue": "cannot unpack non-iterable NoneType object",
     "output_type": "error",
     "traceback": [
      "\u001b[0;31m---------------------------------------------------------------------------\u001b[0m",
      "\u001b[0;31mTypeError\u001b[0m                                 Traceback (most recent call last)",
      "\u001b[0;32m<timed exec>\u001b[0m in \u001b[0;36m<module>\u001b[0;34m\u001b[0m\n",
      "\u001b[0;32m/Library/Frameworks/Python.framework/Versions/3.7/lib/python3.7/site-packages/openTSNE/tsne.py\u001b[0m in \u001b[0;36mprepare_partial\u001b[0;34m(self, X, initialization, k, **affinity_params)\u001b[0m\n\u001b[1;32m    784\u001b[0m         \"\"\"\n\u001b[1;32m    785\u001b[0m         P, neighbors, distances = self.affinities.to_new(\n\u001b[0;32m--> 786\u001b[0;31m             \u001b[0mX\u001b[0m\u001b[0;34m,\u001b[0m \u001b[0mreturn_distances\u001b[0m\u001b[0;34m=\u001b[0m\u001b[0;32mTrue\u001b[0m\u001b[0;34m,\u001b[0m \u001b[0;34m**\u001b[0m\u001b[0maffinity_params\u001b[0m\u001b[0;34m\u001b[0m\u001b[0;34m\u001b[0m\u001b[0m\n\u001b[0m\u001b[1;32m    787\u001b[0m         )\n\u001b[1;32m    788\u001b[0m \u001b[0;34m\u001b[0m\u001b[0m\n",
      "\u001b[0;32m/Library/Frameworks/Python.framework/Versions/3.7/lib/python3.7/site-packages/openTSNE/affinity.py\u001b[0m in \u001b[0;36mto_new\u001b[0;34m(self, data, perplexity, return_distances)\u001b[0m\n\u001b[1;32m    222\u001b[0m         \u001b[0mk_neighbors\u001b[0m \u001b[0;34m=\u001b[0m \u001b[0mmin\u001b[0m\u001b[0;34m(\u001b[0m\u001b[0mself\u001b[0m\u001b[0;34m.\u001b[0m\u001b[0mn_samples\u001b[0m \u001b[0;34m-\u001b[0m \u001b[0;36m1\u001b[0m\u001b[0;34m,\u001b[0m \u001b[0mint\u001b[0m\u001b[0;34m(\u001b[0m\u001b[0;36m3\u001b[0m \u001b[0;34m*\u001b[0m \u001b[0mperplexity\u001b[0m\u001b[0;34m)\u001b[0m\u001b[0;34m)\u001b[0m\u001b[0;34m\u001b[0m\u001b[0;34m\u001b[0m\u001b[0m\n\u001b[1;32m    223\u001b[0m \u001b[0;34m\u001b[0m\u001b[0m\n\u001b[0;32m--> 224\u001b[0;31m         \u001b[0mneighbors\u001b[0m\u001b[0;34m,\u001b[0m \u001b[0mdistances\u001b[0m \u001b[0;34m=\u001b[0m \u001b[0mself\u001b[0m\u001b[0;34m.\u001b[0m\u001b[0mknn_index\u001b[0m\u001b[0;34m.\u001b[0m\u001b[0mquery\u001b[0m\u001b[0;34m(\u001b[0m\u001b[0mdata\u001b[0m\u001b[0;34m,\u001b[0m \u001b[0mk_neighbors\u001b[0m\u001b[0;34m)\u001b[0m\u001b[0;34m\u001b[0m\u001b[0;34m\u001b[0m\u001b[0m\n\u001b[0m\u001b[1;32m    225\u001b[0m \u001b[0;34m\u001b[0m\u001b[0m\n\u001b[1;32m    226\u001b[0m         P = joint_probabilities_nn(\n",
      "\u001b[0;31mTypeError\u001b[0m: cannot unpack non-iterable NoneType object"
     ]
    }
   ],
   "source": [
    "%%time\n",
    "embedding_test = embedding_train_2.prepare_partial(\n",
    "    x_test,\n",
    "    initialization=\"median\",\n",
    "    k=25,\n",
    "    perplexity=5,\n",
    ")"
   ]
  },
  {
   "cell_type": "code",
   "execution_count": 199,
   "metadata": {
    "scrolled": true
   },
   "outputs": [
    {
     "ename": "NameError",
     "evalue": "name 'embedding_test' is not defined",
     "output_type": "error",
     "traceback": [
      "\u001b[0;31m---------------------------------------------------------------------------\u001b[0m",
      "\u001b[0;31mNameError\u001b[0m                                 Traceback (most recent call last)",
      "\u001b[0;32m<ipython-input-199-32e85df7f5e0>\u001b[0m in \u001b[0;36m<module>\u001b[0;34m\u001b[0m\n\u001b[0;32m----> 1\u001b[0;31m \u001b[0mutils\u001b[0m\u001b[0;34m.\u001b[0m\u001b[0mplot\u001b[0m\u001b[0;34m(\u001b[0m\u001b[0membedding_test\u001b[0m\u001b[0;34m,\u001b[0m \u001b[0my_test\u001b[0m\u001b[0;34m)\u001b[0m\u001b[0;34m\u001b[0m\u001b[0;34m\u001b[0m\u001b[0m\n\u001b[0m",
      "\u001b[0;31mNameError\u001b[0m: name 'embedding_test' is not defined"
     ]
    }
   ],
   "source": [
    "utils.plot(embedding_test, y_test)"
   ]
  },
  {
   "cell_type": "code",
   "execution_count": null,
   "metadata": {},
   "outputs": [],
   "source": [
    "%%time\n",
    "embedding_test_1 = embedding_test.optimize(\n",
    "    n_iter=100,\n",
    "    learning_rate=1,\n",
    "    exaggeration=2,\n",
    "    momentum=0,\n",
    ")"
   ]
  },
  {
   "cell_type": "code",
   "execution_count": null,
   "metadata": {},
   "outputs": [],
   "source": [
    "utils.plot(embedding_test_1, y_test)"
   ]
  },
  {
   "cell_type": "markdown",
   "metadata": {},
   "source": [
    "## Together\n",
    "\n",
    "We superimpose the transformed points onto the original embedding with larger opacity."
   ]
  },
  {
   "cell_type": "code",
   "execution_count": null,
   "metadata": {
    "scrolled": true
   },
   "outputs": [],
   "source": [
    "fig, ax = plt.subplots(figsize=(12, 8))\n",
    "utils.plot(embedding_train_2, y_train, alpha=0.25, ax=ax)\n",
    "utils.plot(embedding_test_1, y_test, alpha=0.75, ax=ax)"
   ]
  },
  {
   "cell_type": "markdown",
   "metadata": {},
   "source": [
    "---"
   ]
  },
  {
   "cell_type": "markdown",
   "metadata": {},
   "source": [
    "### Test inheritance:"
   ]
  },
  {
   "cell_type": "code",
   "execution_count": null,
   "metadata": {},
   "outputs": [],
   "source": [
    "class base():\n",
    "    def __init__(self):\n",
    "        init = \"Init Base\"\n",
    "        print(init)\n",
    "    def bark(self):\n",
    "        print(\"woof\")\n",
    "        \n",
    "#currently (full override):\n",
    "class over(base):\n",
    "    def __init__(self):\n",
    "        init = \"Init Previous\"\n",
    "        print(init)\n",
    "    def berk(self):\n",
    "        print(\"dog.bark(self)\")\n",
    "\n",
    "billo = dug()  \n",
    "\n",
    "#with super:\n",
    "class sup(base):\n",
    "    def __init__(self):\n",
    "        super(deg, self).__init__()\n",
    "        init = \"Init Super\"\n",
    "        print(init)\n",
    "    def berk(self):\n",
    "        print(\"dog.bark(self)\")\n",
    "\n",
    "bello = deg()"
   ]
  },
  {
   "cell_type": "markdown",
   "metadata": {},
   "source": [
    "### Test numpy array:"
   ]
  },
  {
   "cell_type": "code",
   "execution_count": null,
   "metadata": {},
   "outputs": [],
   "source": [
    "import numpy as np\n",
    "\n",
    "print(\"x.shape: {}\".format(x.shape))\n",
    "arr = np.empty(x.shape)\n",
    "#print(\"arr: {}\".format(arr))\n",
    "entry = [0,1,2,3]\n",
    "arr[0] = entry\n",
    "print(\"arr + entry {}\".format(arr[0]))"
   ]
  },
  {
   "cell_type": "code",
   "execution_count": null,
   "metadata": {},
   "outputs": [],
   "source": [
    "import numpy as np\n",
    "\n",
    "#index = neighbors, distances\n",
    "data = [[[0,1,2,3],[0,20,30,40]],[[1,1,2,3],[10,20,30,40]],[[2,1,2,3],[20,20,30,40]],\n",
    "[[3,1,2,3],[30,20,30,40]],[[4,1,2,3],[40,20,30,40]]]\n",
    "\n",
    "neighbors = np.empty((5,4))\n",
    "distances = np.empty((5,4))\n",
    "\n",
    "for i in range(len(data)):\n",
    "    #neighbors_single, distances_single = np.asarray(data[i])\n",
    "    neighbors[i], distances[i] = np.asarray(data[i])\n",
    "#    neighbors[i] = neighbors_single\n",
    "#    distances[i] = distances_single\n",
    "      \n",
    "print(neighbors)\n",
    "print(distances)\n",
    "\n",
    "\n",
    "\n",
    "\n",
    "\n",
    "\n",
    "#indexarr = np.asarray(indexlist)\n",
    "#np.append(indexarr[1],np.asarray(indexlist1)[1], axis=0)\n",
    "#neig, dist = indexarr[1]\n",
    "#np.append(indexarr[0],np.asarray(indexlist1)[1], axis=0)\n",
    "\n",
    "#print(indexarr)\n",
    "\n",
    "\n",
    "#neigh = np.empty((4,4))\n",
    "#dist = np.empty\n",
    "\n",
    "#empty[0] = indexarr[0]\n",
    "#print(\"\")\n",
    "#print(empty)\n",
    "\n",
    "\n"
   ]
  },
  {
   "cell_type": "markdown",
   "metadata": {},
   "source": [
    "#### Test difference range, enumerate for data"
   ]
  },
  {
   "cell_type": "code",
   "execution_count": null,
   "metadata": {},
   "outputs": [],
   "source": [
    "#X = [[1,2,3],[4,5,6]]\n",
    "     \n",
    "#for i,x in enumerate(X):\n",
    "#    print(i,x)\n",
    "    \n",
    "#n_items, vector_length = x.shape\n",
    "#for i, j in range(n_items):\n",
    "#    print(j[i], i)\n",
    "#print(\"\")\n",
    "#for i,j in enumerate(x):\n",
    "#    print(i,j)"
   ]
  },
  {
   "cell_type": "markdown",
   "metadata": {},
   "source": [
    "#### Test ngtpy install"
   ]
  },
  {
   "cell_type": "code",
   "execution_count": 125,
   "metadata": {},
   "outputs": [
    {
     "ename": "ImportError",
     "evalue": "dlopen(/Library/Frameworks/Python.framework/Versions/3.7/lib/python3.7/site-packages/ngtpy.cpython-37m-darwin.so, 2): Library not loaded: /usr/local/opt/gcc/lib/gcc/8/libgomp.1.dylib\n  Referenced from: /Library/Frameworks/Python.framework/Versions/3.7/lib/python3.7/site-packages/ngtpy.cpython-37m-darwin.so\n  Reason: image not found",
     "output_type": "error",
     "traceback": [
      "\u001b[0;31m---------------------------------------------------------------------------\u001b[0m",
      "\u001b[0;31mImportError\u001b[0m                               Traceback (most recent call last)",
      "\u001b[0;32m<ipython-input-125-4e3b596bd14d>\u001b[0m in \u001b[0;36m<module>\u001b[0;34m\u001b[0m\n\u001b[0;32m----> 1\u001b[0;31m \u001b[0;32mimport\u001b[0m \u001b[0mngtpy\u001b[0m\u001b[0;34m\u001b[0m\u001b[0;34m\u001b[0m\u001b[0m\n\u001b[0m\u001b[1;32m      2\u001b[0m \u001b[0;32mimport\u001b[0m \u001b[0mrandom\u001b[0m\u001b[0;34m\u001b[0m\u001b[0;34m\u001b[0m\u001b[0m\n\u001b[1;32m      3\u001b[0m \u001b[0;34m\u001b[0m\u001b[0m\n\u001b[1;32m      4\u001b[0m \u001b[0mdim\u001b[0m \u001b[0;34m=\u001b[0m \u001b[0;36m10\u001b[0m\u001b[0;34m\u001b[0m\u001b[0;34m\u001b[0m\u001b[0m\n\u001b[1;32m      5\u001b[0m \u001b[0mobjects\u001b[0m \u001b[0;34m=\u001b[0m \u001b[0;34m[\u001b[0m\u001b[0;34m]\u001b[0m\u001b[0;34m\u001b[0m\u001b[0;34m\u001b[0m\u001b[0m\n",
      "\u001b[0;31mImportError\u001b[0m: dlopen(/Library/Frameworks/Python.framework/Versions/3.7/lib/python3.7/site-packages/ngtpy.cpython-37m-darwin.so, 2): Library not loaded: /usr/local/opt/gcc/lib/gcc/8/libgomp.1.dylib\n  Referenced from: /Library/Frameworks/Python.framework/Versions/3.7/lib/python3.7/site-packages/ngtpy.cpython-37m-darwin.so\n  Reason: image not found"
     ]
    }
   ],
   "source": [
    "import ngtpy\n",
    "import random\n",
    "\n",
    "dim = 10\n",
    "objects = []\n",
    "for i in range(0, 100) :\n",
    "    vector = random.sample(range(100), dim)\n",
    "    objects.append(vector)\n",
    "\n",
    "query = objects[0]\n",
    "\n",
    "ngtpy.create(b\"tmp\", dim)\n",
    "index = ngtpy.Index(b\"tmp\")\n",
    "index.batch_insert(objects)\n",
    "index.save()\n",
    "\n",
    "result = index.search(query, 3)\n",
    "\n",
    "for i, o in enumerate(result) :\n",
    "    print(str(i) + \": \" + str(o[0]) + \", \" + str(o[1]))\n",
    "    object = index.get_object(o[0])\n",
    "    print(object)"
   ]
  },
  {
   "cell_type": "markdown",
   "metadata": {},
   "source": [
    "#### assign object with argument"
   ]
  },
  {
   "cell_type": "code",
   "execution_count": 259,
   "metadata": {},
   "outputs": [
    {
     "name": "stdout",
     "output_type": "stream",
     "text": [
      "__\n",
      "12\n",
      "40\n"
     ]
    }
   ],
   "source": [
    "class base():\n",
    "    def __init__(self):\n",
    "        print(\"__\")\n",
    "\n",
    "class over():\n",
    "    def __init__(self, var):\n",
    "        print(var)\n",
    "    \n",
    "dog = base()\n",
    "deg = over(12)\n",
    "\n",
    "class DummyANN(KNNIndex):\n",
    "    def __init__(self, var):\n",
    "        self.var = var\n",
    "        print(self.var)\n",
    "        \n",
    "dum = DummyANN(40)"
   ]
  },
  {
   "cell_type": "code",
   "execution_count": null,
   "metadata": {},
   "outputs": [],
   "source": []
  }
 ],
 "metadata": {
  "kernelspec": {
   "display_name": "Python 3",
   "language": "python",
   "name": "python3"
  },
  "language_info": {
   "codemirror_mode": {
    "name": "ipython",
    "version": 3
   },
   "file_extension": ".py",
   "mimetype": "text/x-python",
   "name": "python",
   "nbconvert_exporter": "python",
   "pygments_lexer": "ipython3",
   "version": "3.7.3"
  }
 },
 "nbformat": 4,
 "nbformat_minor": 2
}
