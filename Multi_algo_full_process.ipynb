{
 "cells": [
  {
   "cell_type": "markdown",
   "metadata": {},
   "source": [
    "# Advanced usage"
   ]
  },
  {
   "cell_type": "markdown",
   "metadata": {},
   "source": [
    "### python test class\n"
   ]
  },
  {
   "cell_type": "markdown",
   "metadata": {},
   "source": [
    "### config files\n",
    "\n",
    "Provide option to input config files, in the form I want to get, if they don't provide any, you give/use default values. \n",
    ".txt format\n",
    "\n",
    "Describe it in the documentation how it should look like."
   ]
  },
  {
   "cell_type": "code",
   "execution_count": 1,
   "metadata": {},
   "outputs": [],
   "source": [
    "from openTSNE import TSNEEmbedding\n",
    "from openTSNE import initialization\n",
    "from openTSNE.callbacks import ErrorLogger\n",
    "\n",
    "\n",
    "import numpy as np\n",
    "from sklearn.model_selection import train_test_split\n",
    "\n",
    "import matplotlib.pyplot as plt"
   ]
  },
  {
   "cell_type": "markdown",
   "metadata": {},
   "source": [
    "## Load data"
   ]
  },
  {
   "cell_type": "code",
   "execution_count": 2,
   "metadata": {},
   "outputs": [],
   "source": [
    "from sklearn import datasets\n",
    "\n",
    "iris = datasets.load_iris()\n",
    "x, y = iris[\"data\"], iris[\"target\"]"
   ]
  },
  {
   "cell_type": "code",
   "execution_count": 3,
   "metadata": {},
   "outputs": [
    {
     "name": "stdout",
     "output_type": "stream",
     "text": [
      "Data set contains 150 samples with 4 features\n"
     ]
    }
   ],
   "source": [
    "print(\"Data set contains %d samples with %d features\" % x.shape)"
   ]
  },
  {
   "cell_type": "markdown",
   "metadata": {},
   "source": [
    "## Create train/test split"
   ]
  },
  {
   "cell_type": "code",
   "execution_count": 4,
   "metadata": {},
   "outputs": [],
   "source": [
    "x_train, x_test, y_train, y_test = train_test_split(x, y, test_size=.33, random_state=42)"
   ]
  },
  {
   "cell_type": "code",
   "execution_count": 5,
   "metadata": {},
   "outputs": [
    {
     "name": "stdout",
     "output_type": "stream",
     "text": [
      "100 training samples\n",
      "50 test samples\n"
     ]
    }
   ],
   "source": [
    "print(\"%d training samples\" % x_train.shape[0])\n",
    "print(\"%d test samples\" % x_test.shape[0])"
   ]
  },
  {
   "cell_type": "markdown",
   "metadata": {},
   "source": [
    "## Create a t-SNE embedding\n",
    "\n",
    "Like in the *simple_usage* notebook, we will run the standard t-SNE optimization.\n",
    "\n",
    "This example shows the standard t-SNE optimization. Much can be done in order to better preserve global structure and improve embedding quality. Please refer to the *preserving_global_structure* notebook for some examples."
   ]
  },
  {
   "cell_type": "markdown",
   "metadata": {},
   "source": [
    "**1. Compute the affinities between data points**"
   ]
  },
  {
   "cell_type": "code",
   "execution_count": 6,
   "metadata": {},
   "outputs": [],
   "source": [
    "class KNNIndex_Elements:\n",
    "    def __init__(self, metric, metric_params=None, n_jobs=1, random_state=None):\n",
    "        self.index = None\n",
    "        self.metric = metric\n",
    "        self.metric_params = metric_params\n",
    "        self.n_jobs = n_jobs\n",
    "        self.random_state = random_state\n",
    "\n",
    "    def build(self, data):\n",
    "        \"\"\"Build the index so we can query nearest neighbors.\"\"\"\n",
    "\n",
    "    def query_train(self, data, k):\n",
    "        \"\"\"Query the index for the points used to build index.\"\"\"\n",
    "\n",
    "    def query(self, query, k):\n",
    "        \"\"\"Query the index with new points.\"\"\"\n",
    "\n",
    "    def check_metric(self, metric):\n",
    "        \"\"\"Check that the metric is supported by the KNNIndex instance.\"\"\"\n",
    "\n",
    "class Annoy:\n",
    "    \"\"\"\n",
    "    \"\"\"\n",
    "    \n",
    "class NearPy:\n",
    "    \"\"\"\n",
    "    \"\"\"\n",
    "\n",
    "class ONNG:\n",
    "    \"\"\"\n",
    "    \"\"\"\n",
    "    \n",
    "class NMSLIB:\n",
    "    \"\"\"\n",
    "    \"\"\"\n",
    "#####       \n",
    "#self.knn_index = build_knn_index(\n",
    "#            data, method, metric, metric_params, n_jobs, random_state\n",
    "#        )"
   ]
  },
  {
   "cell_type": "markdown",
   "metadata": {},
   "source": [
    "### import affinity_multiann.py"
   ]
  },
  {
   "cell_type": "code",
   "execution_count": 7,
   "metadata": {},
   "outputs": [],
   "source": [
    "import logging\n",
    "import operator\n",
    "from functools import reduce\n",
    "\n",
    "import numpy as np\n",
    "import scipy.sparse as sp\n",
    "\n",
    "#from . import nearest_neighbors\n",
    "\n",
    "log = logging.getLogger(__name__)\n",
    "\n",
    "from openTSNE.affinity import PerplexityBasedNN, MultiscaleMixture, FixedSigmaNN, joint_probabilities_nn\n",
    "from openTSNE import nearest_neighbors\n",
    "\n",
    "class MultiANNPerplexityBasedNN(PerplexityBasedNN):\n",
    "    \"\"\"Compute affinities using nearest neighbors.\n",
    "    \"\"\"\n",
    "\n",
    "    #super init !    \n",
    "    def __init__(\n",
    "        self,\n",
    "        data,\n",
    "        perplexity=30,\n",
    "        method=\"approx\",\n",
    "        metric=\"euclidean\",\n",
    "        metric_params=None,\n",
    "        symmetrize=True,\n",
    "        n_jobs=1,\n",
    "        random_state=None,\n",
    "    ):\n",
    "        self.n_samples = data.shape[0]\n",
    "        self.perplexity = self.check_perplexity(perplexity)\n",
    "\n",
    "        self.knn_index = build_knn_index(\n",
    "            data, method, metric, metric_params, n_jobs, random_state\n",
    "        )\n",
    "\n",
    "        # Find and store the nearest neighbors so we can reuse them if the\n",
    "        # perplexity is ever lowered\n",
    "        k_neighbors = min(self.n_samples - 1, int(3 * self.perplexity))\n",
    "        self.__neighbors, self.__distances = self.knn_index.query_train(\n",
    "            data, k=k_neighbors\n",
    "        )\n",
    "        #print(\"Neighbors:\")\n",
    "        #print(self.__neighbors)\n",
    "        #print(len(self.__neighbors))\n",
    "        #print(\"Distances:\")\n",
    "        #print(self.__distances)\n",
    "        #print(len(self.__distances[0]))\n",
    "\n",
    "        self.P = joint_probabilities_nn(\n",
    "            self.__neighbors,\n",
    "            self.__distances,\n",
    "            [self.perplexity],\n",
    "            symmetrize=symmetrize,\n",
    "            n_jobs=n_jobs,\n",
    "        )\n",
    "\n",
    "        self.n_jobs = n_jobs\n",
    "        \n",
    "        \n",
    "        \n",
    "def build_knn_index(\n",
    "    data, method, metric, metric_params=None, n_jobs=1, random_state=None\n",
    "):\n",
    "    methods = {\n",
    "        #\"exact_alt\": nearest_neighbors.VPTree,\n",
    "        \"exact\": nearest_neighbors.BallTree,\n",
    "        \"approx\": nearest_neighbors.NNDescent,\n",
    "        #cs: options for ann algorithms\n",
    "        \"balltree\": nearest_neighbors.BallTree,\n",
    "        \"nndescent\": nearest_neighbors.NNDescent,\n",
    "        #\"annoy\": multi_nearest_neighbors.Annoy, (if filelocation in sumfile)\n",
    "        #\"annoy\": algorithms.annoy.Annoy (if filelocation in folder)\n",
    "        \"annoy\": Annoy,\n",
    "        \"hnsw\": Hnsw,\n",
    "        \"sw-graph\": SWGraph,\n",
    "        \"vp-tree\": Nmslib(\"vp-tree\"),\n",
    "        \"napp\": Nmslib(\"napp\"),\n",
    "        \"simple_invindx\": Nmslib(\"simple_invindx\"),\n",
    "        \"brute_force\": BruteForce,\n",
    "        #\"hnswlib\": Hnswlib,\n",
    "        #\"rpforest\": RPForest,\n",
    "        #\"flann\": FLANN,\n",
    "        #\"onng\": ONNG,\n",
    "        \"nearpy\": NearPy,\n",
    "    }\n",
    "    if isinstance(method, nearest_neighbors.KNNIndex):\n",
    "        knn_index = method\n",
    "\n",
    "    elif method not in methods:\n",
    "        raise ValueError(\n",
    "            \"Unrecognized nearest neighbor algorithm `%s`. \"\n",
    "            \"Please choose one of the supported methods or \"\n",
    "            \"provide a valid `KNNIndex` instance.\" % method\n",
    "        )\n",
    "    else:\n",
    "        knn_index = methods[method](\n",
    "            metric=metric,\n",
    "            metric_params=metric_params,\n",
    "            n_jobs=n_jobs,\n",
    "            random_state=random_state,\n",
    "        )\n",
    "\n",
    "    knn_index.build(data)\n",
    "\n",
    "    return knn_index        "
   ]
  },
  {
   "cell_type": "code",
   "execution_count": 8,
   "metadata": {},
   "outputs": [],
   "source": [
    "# class MultiANNFixedSigmaNN(FixedSigmaNN):\n",
    "#     \"\"\"Compute affinities using using nearest neighbors and a fixed bandwidth\n",
    "#     for the Gaussians in the ambient space.\n",
    "# \n",
    "#     Using a fixed Gaussian bandwidth can enable us to find smaller clusters of\n",
    "#     data points than we might be able to using the automatically determined\n",
    "#     bandwidths using perplexity. Note however that this requires mostly trial\n",
    "#     and error.\n",
    "#     \"\"\"\n",
    "# \n",
    "#     def __init__(\n",
    "#         self,\n",
    "#         data,\n",
    "#         sigma,\n",
    "#         k=30,\n",
    "#         method=\"exact\",\n",
    "#         metric=\"euclidean\",\n",
    "#         metric_params=None,\n",
    "#         symmetrize=True,\n",
    "#         n_jobs=1,\n",
    "#         random_state=None,\n",
    "#     ):\n",
    "#         self.n_samples = n_samples = data.shape[0]\n",
    "# \n",
    "#         if k >= self.n_samples:\n",
    "#             raise ValueError(\n",
    "#                 \"`k` (%d) cannot be larger than N-1 (%d).\" % (k, self.n_samples)\n",
    "#             )\n",
    "# \n",
    "#         knn_index, neighbors, distances = build_knn_index(\n",
    "#             data, method, k, metric, metric_params, n_jobs, random_state\n",
    "#         )\n",
    "# \n",
    "#         self.knn_index = knn_index\n",
    "# \n",
    "#         # Compute asymmetric pairwise input similarities\n",
    "#         conditional_P = np.exp(-distances ** 2 / (2 * sigma ** 2))\n",
    "#         conditional_P /= np.sum(conditional_P, axis=1)[:, np.newaxis]\n",
    "# \n",
    "#         P = sp.csr_matrix(\n",
    "#             (conditional_P.ravel(), neighbors.ravel(), range(0, n_samples * k + 1, k)),\n",
    "#             shape=(n_samples, n_samples),\n",
    "#         )\n",
    "# \n",
    "#         # Symmetrize the probability matrix\n",
    "#         if symmetrize:\n",
    "#             P = (P + P.T) / 2\n",
    "# \n",
    "#         # Convert weights to probabilities\n",
    "#         P /= np.sum(P)\n",
    "# \n",
    "#         self.sigma = sigma\n",
    "#         self.k = k\n",
    "#         self.P = P\n",
    "#         self.n_jobs = n_jobs\n",
    "#\n",
    "#\n",
    "# class MultiANNMultiscaleMixture(MultiscaleMixture):\n",
    "#     \"\"\"Calculate affinities using a Gaussian mixture kernel.\n",
    "# \n",
    "#     Instead of using a single perplexity to compute the affinities between data\n",
    "#     points, we can use a multiscale Gaussian kernel instead. This allows us to\n",
    "#     incorporate long range interactions.\n",
    "#     \"\"\"\n",
    "# \n",
    "#     def __init__(\n",
    "#         self,\n",
    "#         data,\n",
    "#         perplexities,\n",
    "#         method=\"exact\",\n",
    "#         metric=\"euclidean\",\n",
    "#         metric_params=None,\n",
    "#         symmetrize=True,\n",
    "#         n_jobs=1,\n",
    "#         random_state=None,\n",
    "#     ):\n",
    "#         self.n_samples = data.shape[0]\n",
    "# \n",
    "#         # We will compute the nearest neighbors to the max value of perplexity,\n",
    "#         # smaller values can just use indexing to truncate unneeded neighbors\n",
    "#         perplexities = self.check_perplexities(perplexities)\n",
    "#         max_perplexity = np.max(perplexities)\n",
    "#         k_neighbors = min(self.n_samples - 1, int(3 * max_perplexity))\n",
    "# \n",
    "#         self.knn_index, self.__neighbors, self.__distances = build_knn_index(\n",
    "#             data, method, k_neighbors, metric, metric_params, n_jobs, random_state\n",
    "#         )\n",
    "# \n",
    "#         self.P = self._calculate_P(\n",
    "#             self.__neighbors,\n",
    "#             self.__distances,\n",
    "#             perplexities,\n",
    "#             symmetrize=symmetrize,\n",
    "#             n_jobs=n_jobs,\n",
    "#         )\n",
    "# \n",
    "#         self.perplexities = perplexities\n",
    "#         self.n_jobs = n_jobs\n",
    "# \n",
    "# class MultiANNMultiscale(MultiANNMultiscaleMixture):\n",
    "#     \"\"\"Calculate affinities using averaged Gaussian perplexities.\n",
    "# \n",
    "#     In contrast to :class:`MultiscaleMixture`, which uses a Gaussian mixture\n",
    "#     kernel, here, we first compute single scale Gaussian kernels, convert them\n",
    "#     to probability distributions, then average them out between scales.\n",
    "# \n",
    "#     Please see the :ref:`parameter-guide` for more information.\n",
    "#     \"\"\"\n",
    "# \n",
    "#     @staticmethod\n",
    "#     def _calculate_P(\n",
    "#         neighbors,\n",
    "#         distances,\n",
    "#         perplexities,\n",
    "#         symmetrize=True,\n",
    "#         normalization=\"pair-wise\",\n",
    "#         n_reference_samples=None,\n",
    "#         n_jobs=1,\n",
    "#     ):\n",
    "#         # Compute normalized probabilities for each perplexity\n",
    "#         partial_Ps = [\n",
    "#             joint_probabilities_nn(\n",
    "#                 neighbors,\n",
    "#                 distances,\n",
    "#                 [perplexity],\n",
    "#                 symmetrize=symmetrize,\n",
    "#                 normalization=normalization,\n",
    "#                 n_reference_samples=n_reference_samples,\n",
    "#                 n_jobs=n_jobs,\n",
    "#             )\n",
    "#             for perplexity in perplexities\n",
    "#         ]\n",
    "#         # Sum them together, then normalize\n",
    "#         P = reduce(operator.add, partial_Ps, 0)\n",
    "# \n",
    "#         # Take care to properly normalize the affinity matrix\n",
    "#         if normalization == \"pair-wise\":\n",
    "#             P /= np.sum(P)\n",
    "#         elif normalization == \"point-wise\":\n",
    "#             P = sp.diags(np.asarray(1 / P.sum(axis=1)).ravel()) @ P\n",
    "# \n",
    "#         return P"
   ]
  },
  {
   "cell_type": "markdown",
   "metadata": {},
   "source": [
    "### import multi_nearest_neighbors.py"
   ]
  },
  {
   "cell_type": "markdown",
   "metadata": {},
   "source": [
    "### annparameters.py"
   ]
  },
  {
   "cell_type": "code",
   "execution_count": 9,
   "metadata": {},
   "outputs": [],
   "source": [
    "def init_method_param(method, data=None):\n",
    "    \"\"\"\n",
    "    Get method parameters based on approximate nearest neighbor algorithm and data (shape, vector)\n",
    "    \n",
    "    Input: name of method as string, data as np.array ([num_items][vector_length])\n",
    "    Output: method_param as directory. Keys corresponding to the method-specific parameters\n",
    "    \"\"\"\n",
    "    config_file = \"\"\n",
    "    config_file = None\n",
    "\n",
    "    if method == \"nearpy\":\n",
    "        if not config_file:\n",
    "            mp = {}\n",
    "            \n",
    "            # number of bits, as int\n",
    "            mp['n_bits'] = 20 # ????? How many as standard? \n",
    "            \n",
    "            # hash counts, as int\n",
    "            mp['hash_counts'] = 20 # ????? How many as standard? \n",
    "    \n",
    "    elif method == \"annoy\":\n",
    "\n",
    "        if not config_file:\n",
    "            n_items, vector_length = data.shape\n",
    "            mp = {}\n",
    "            \n",
    "            # number of trees, as int\n",
    "            mp[\"ntrees\"] = 5 + int(round((n_items) ** 0.5 / 20))\n",
    "            \n",
    "    elif method == \"onng\":\n",
    "        \"\"\"\n",
    "        https://github.com/yahoojapan/NGT/blob/master/python/README-ngtpy.md\n",
    "        \n",
    "        object_type: Specifies the data object type.\n",
    "            c: 1 byte unsigned integer\n",
    "            f: 4 byte floating point number (default)\n",
    "        \n",
    "        \n",
    "        \"\"\"\n",
    "        \n",
    "        if not config_file:\n",
    "            mp = {}\n",
    "            mp[\"object_type\"] = \"f\"\n",
    "            \n",
    "            mp[\"edge_size_for_search\"] = -2\n",
    "            \n",
    "            mp[\"build_time_limit\"] = 4\n",
    "            \n",
    "            mp[\"epsilon\"] = 10\n",
    "            \n",
    "            mp[\"edge\"] = 100\n",
    "            \n",
    "            mp[\"outdegree\"] = 10\n",
    "            \n",
    "            mp[\"indegree\"] = 120\n",
    "    \n",
    "    elif method == \"hnsw\": \n",
    "    \n",
    "        if not config_file:\n",
    "            mp = {}\n",
    "            \n",
    "            M = 15\n",
    "            efC = 100\n",
    "            mp[\"index_param\"] = {'M': M, 'efConstruction': efC, 'post' : 0}\n",
    "            efS = 100\n",
    "            mp['query_param'] = {'efSearch': efS}\n",
    "            \n",
    "    elif method == \"sw-graph\": \n",
    "        \n",
    "        if not config_file:\n",
    "            mp = {}\n",
    "            \n",
    "            M = 15\n",
    "            efC = 100\n",
    "            mp[\"index_param\"] = {'M': M, 'efConstruction': efC, 'post' : 0}\n",
    "            efS = 100\n",
    "            mp['query_param'] = {'efSearch': efS}\n",
    "            \n",
    "    elif method == \"vp-tree\": \n",
    "        \n",
    "        if not config_file:\n",
    "            n_items, dim = data.shape\n",
    "            mp = {}\n",
    "            \n",
    "            M = 15\n",
    "            efC = 100\n",
    "            bS = min(int(dim * 0.0005), 1000)\n",
    "            mp[\"index_param\"] = {'M': M, 'efConstruction': efC, 'bucketSize': bS,'post' : 0}\n",
    "            mp['query_param'] = None\n",
    "            \n",
    "    elif method == \"napp\": \n",
    "        \n",
    "        if not config_file:\n",
    "            mp = {}\n",
    "            \n",
    "            M = 15\n",
    "            efC = 100\n",
    "            mp[\"index_param\"] = {'M': M, 'efConstruction': efC, 'post' : 0}\n",
    "            mp['query_param'] = None\n",
    "            \n",
    "    elif method == \"simple_invindx\": \n",
    "        \n",
    "        if not config_file:\n",
    "            mp = {}\n",
    "            \n",
    "            M = 15\n",
    "            efC = 100\n",
    "            mp[\"index_param\"] = {'M': M, 'efConstruction': efC, 'post' : 0}\n",
    "            mp['query_param'] = None\n",
    "            \n",
    "    else:\n",
    "        print(\"Error: ANN for init_method_param not found\")\n",
    "        return \n",
    "        \n",
    "    return mp"
   ]
  },
  {
   "cell_type": "code",
   "execution_count": 10,
   "metadata": {
    "scrolled": true
   },
   "outputs": [
    {
     "name": "stdout",
     "output_type": "stream",
     "text": [
      "{'index_param': {'M': 15, 'efConstruction': 100, 'post': 0}, 'query_param': {'efSearch': 100}}\n"
     ]
    }
   ],
   "source": [
    "print(init_method_param(\"sw-graph\"))"
   ]
  },
  {
   "cell_type": "markdown",
   "metadata": {},
   "source": [
    "### NMSLIB"
   ]
  },
  {
   "cell_type": "code",
   "execution_count": 11,
   "metadata": {},
   "outputs": [],
   "source": [
    "from openTSNE.nearest_neighbors import KNNIndex\n",
    "\n",
    "import nmslib\n",
    "import os\n",
    "import numpy as np\n",
    "\n",
    "class Nmslib(KNNIndex):\n",
    "    #def __init__(self, method):\n",
    "    #    super(Nmslib, self).__init__()\n",
    "    #    self._method_name = method\n",
    "    \n",
    "    #VALID_METRICS = neighbors.Nmslib.valid_metrics\n",
    "    __\n",
    "    \n",
    "    def build(self, data):\n",
    "        n_items, vector_length = data.shape\n",
    "        #self._method_name = \"hnsw\"\n",
    "        #initalize parameters\n",
    "        method_param = init_method_param(self._method_name, data)\n",
    "        \n",
    "        \n",
    "        #self._save_index = method_param[\"save_index\"]\n",
    "        self._index_param = method_param[\"index_param\"]\n",
    "        self._index_param[\"indexThreadQty\"] = self.n_jobs \n",
    "        self._query_param = method_param[\"query_param\"]\n",
    "        #self._name = mp['name']\n",
    "        ef = mp['efS']\n",
    "        self._metric = {\n",
    "        'angular': 'cosinesimil', 'euclidean': 'l2'}[self.metric]\n",
    "        \n",
    "        #create dir\n",
    "        #self._index_name = os.path.join(INDEX_DIR, \"nmslib_%s_%s_%s\" % (\n",
    "        #    self._method_name, self.metric, '_'.join(self._index_param)))\n",
    "\n",
    "        #d = os.path.dirname(self._index_name)\n",
    "        #if not os.path.exists(d):\n",
    "        #    os.makedirs(d)\n",
    "\n",
    "        #fit\n",
    "        if self._method_name == 'vptree':\n",
    "            # To avoid this issue: terminate called after throwing an instance\n",
    "            # of 'std::runtime_error'\n",
    "            # what():  The data size is too small or the bucket size is too\n",
    "            # big. Select the parameters so that <total # of records> is NOT\n",
    "            # less than <bucket size> * 1000\n",
    "            # Aborted (core dumped)\n",
    "            self._index_param.append('bucketSize=%d' %\n",
    "                                     min(int(data.shape[0] * 0.0005), 1000))\n",
    "\n",
    "        self.index = nmslib.init(\n",
    "            space=self._metric, method=self._method_name, data_type=nmslib.DataType.DENSE_VECTOR, dtype=nmslib.DistType.FLOAT)\n",
    "        self.index.addDataPointBatch(data)\n",
    "\n",
    "        #if os.path.exists(self._index_name):\n",
    "        #    print('Loading index from file')\n",
    "        #    self._index.loadIndex(self._index_name)\n",
    "        #else:\n",
    "        self.index.createIndex(self._index_param)\n",
    "        #    if self._save_index:\n",
    "        #        self.index.saveIndex(self._index_name)\n",
    "        if self._query_param is not None:\n",
    "            self.index.setQueryTimeParams(self._query_param)\n",
    "    \n",
    "        #set query arguments\n",
    "        if self._method_name == 'hnsw' or self._method_name == 'sw-graph':\n",
    "            self.index.setQueryTimeParams([\"efSearch=%s\" % (ef)])\n",
    "\n",
    "    def query_train(self, data, k):\n",
    "        result = np.asarray(self.index.knnQueryBatch(data, k))\n",
    "        #for i in \n",
    "        #print(self.res)\n",
    "        #return self.res\n",
    "        neighbors = np.empty((data.shape[0],k), dtype=int)\n",
    "        distances = np.empty((data.shape[0],k))\n",
    "        for i in range(len(data)):\n",
    "            neighbors[i] = result[i][0] \n",
    "            distances[i] = result[i][1]\n",
    "        return neighbors, distances\n",
    "    \n",
    "    def query(self, query, k):\n",
    "        result = np.asarray(self.index.knnQueryBatch(query, k))\n",
    "        #for i in \n",
    "        #print(self.res)\n",
    "        #return self.res\n",
    "        neighbors = np.empty((query.shape[0],k), dtype=int)\n",
    "        distances = np.empty((query.shape[0],k))\n",
    "        for i in range(len(query)):\n",
    "            neighbors[i] = result[i][0] \n",
    "            distances[i] = result[i][1]\n",
    "        return neighbors, distances\n",
    "\n",
    "class Hnsw(Nmslib):\n",
    "    def __init__(self):\n",
    "        super(Hnsw, self).__init__()\n",
    "        self._method_name = \"hnsw\"\n",
    "        \n",
    "class SWGraph(Nmslib):\n",
    "    def __init__(self, metric, metric_params=None, n_jobs=1, random_state=None):\n",
    "        super(SWGraph,self).__init__(metric, metric_params, n_jobs, random_state)\n",
    "        self.index = None\n",
    "        self.metric = metric\n",
    "        self.metric_params = metric_params\n",
    "        self.n_jobs = n_jobs\n",
    "        self.random_state = random_state\n",
    "        self._method_name = \"sw-graph\""
   ]
  },
  {
   "cell_type": "code",
   "execution_count": 12,
   "metadata": {},
   "outputs": [],
   "source": [
    "from openTSNE.nearest_neighbors import KNNIndex\n",
    "\n",
    "import nmslib\n",
    "import os\n",
    "import numpy as np\n",
    "\n",
    "class SWGraph(KNNIndex):\n",
    "    #VALID_METRICS = neighbors.Nmslib.valid_metrics\n",
    "    \n",
    "    def build(self, data):\n",
    "        n_items, vector_length = data.shape\n",
    "        self._method_name = \"sw-graph\"\n",
    "        method_param = init_method_param(self._method_name, data)\n",
    "        self._index_param = method_param[\"index_param\"]\n",
    "        self._index_param[\"indexThreadQty\"] = self.n_jobs \n",
    "        self._query_param = method_param[\"query_param\"]\n",
    "        self._metric = {\n",
    "        'angular': 'cosinesimil', 'euclidean': 'l2'}[self.metric]\n",
    "\n",
    "        self.index = nmslib.init(\n",
    "            space=self._metric, method=self._method_name, data_type=nmslib.DataType.DENSE_VECTOR, dtype=nmslib.DistType.FLOAT)\n",
    "        self.index.addDataPointBatch(data)\n",
    "        self.index.createIndex(self._index_param)\n",
    "        self.index.setQueryTimeParams(self._query_param)\n",
    "\n",
    "    def query_train(self, data, k):\n",
    "        result = np.asarray(self.index.knnQueryBatch(data, k))\n",
    "        neighbors = np.empty((data.shape[0],k), dtype=int)\n",
    "        distances = np.empty((data.shape[0],k))\n",
    "        for i in range(len(data)):\n",
    "            neighbors[i] = result[i][0] \n",
    "            distances[i] = result[i][1]\n",
    "        return neighbors, distances\n",
    "    \n",
    "    def query(self, query, k):\n",
    "        result = np.asarray(self.index.knnQueryBatch(query, k))\n",
    "        neighbors = np.empty((query.shape[0],k), dtype=int)\n",
    "        distances = np.empty((query.shape[0],k))\n",
    "        for i in range(len(query)):\n",
    "            neighbors[i] = result[i][0] \n",
    "            distances[i] = result[i][1]\n",
    "        return neighbors, distances"
   ]
  },
  {
   "cell_type": "code",
   "execution_count": 13,
   "metadata": {},
   "outputs": [],
   "source": [
    "from openTSNE.nearest_neighbors import KNNIndex\n",
    "\n",
    "import nmslib\n",
    "import os\n",
    "import numpy as np\n",
    "\n",
    "class Hnsw(KNNIndex):\n",
    "    #VALID_METRICS = neighbors.Nmslib.valid_metrics\n",
    "    \n",
    "    def build(self, data):\n",
    "        n_items, vector_length = data.shape\n",
    "        self._method_name = \"hnsw\"\n",
    "        method_param = init_method_param(self._method_name, data)\n",
    "        self._index_param = method_param[\"index_param\"]\n",
    "        self._index_param[\"indexThreadQty\"] = self.n_jobs \n",
    "        self._query_param = method_param[\"query_param\"]\n",
    "        self._metric = {\n",
    "        'angular': 'cosinesimil', 'euclidean': 'l2'}[self.metric]\n",
    "\n",
    "        self.index = nmslib.init(\n",
    "            space=self._metric, method=self._method_name, data_type=nmslib.DataType.DENSE_VECTOR, dtype=nmslib.DistType.FLOAT)\n",
    "        self.index.addDataPointBatch(data)\n",
    "        self.index.createIndex(self._index_param)\n",
    "        self.index.setQueryTimeParams(self._query_param)\n",
    "\n",
    "    def query_train(self, data, k):\n",
    "        result = np.asarray(self.index.knnQueryBatch(data, k))\n",
    "        neighbors = np.empty((data.shape[0],k), dtype=int)\n",
    "        distances = np.empty((data.shape[0],k))\n",
    "        for i in range(len(data)):\n",
    "            neighbors[i] = result[i][0] \n",
    "            distances[i] = result[i][1]\n",
    "        return neighbors, distances\n",
    "    \n",
    "    def query(self, query, k):\n",
    "        result = np.asarray(self.index.knnQueryBatch(query, k))\n",
    "        neighbors = np.empty((query.shape[0],k), dtype=int)\n",
    "        distances = np.empty((query.shape[0],k))\n",
    "        for i in range(len(query)):\n",
    "            neighbors[i] = result[i][0] \n",
    "            distances[i] = result[i][1]\n",
    "        return neighbors, distances"
   ]
  },
  {
   "cell_type": "code",
   "execution_count": 14,
   "metadata": {},
   "outputs": [],
   "source": [
    "from openTSNE.nearest_neighbors import KNNIndex\n",
    "\n",
    "import nmslib\n",
    "import os\n",
    "import numpy as np\n",
    "\n",
    "class BruteForce(KNNIndex):\n",
    "    #VALID_METRICS = neighbors.Nmslib.valid_metrics\n",
    "    \n",
    "    def build(self, data):\n",
    "        n_items, vector_length = data.shape\n",
    "        self._method_name = \"brute_force\"\n",
    "        self._metric = {\n",
    "        'angular': 'cosinesimil', 'euclidean': 'l2'}[self.metric]\n",
    "\n",
    "        self.index = nmslib.init(\n",
    "            space=self._metric, method=self._method_name, data_type=nmslib.DataType.DENSE_VECTOR, dtype=nmslib.DistType.FLOAT)\n",
    "       \n",
    "        self.index.addDataPointBatch(data)\n",
    "        self.index.createIndex()\n",
    "\n",
    "    def query_train(self, data, k):\n",
    "        result = np.asarray(self.index.knnQueryBatch(data, k))\n",
    "        neighbors = np.empty((data.shape[0],k), dtype=int)\n",
    "        distances = np.empty((data.shape[0],k))\n",
    "        for i in range(len(data)):\n",
    "            neighbors[i] = result[i][0] \n",
    "            distances[i] = result[i][1]\n",
    "        return neighbors, distances\n",
    "    \n",
    "    def query(self, query, k):\n",
    "        result = np.asarray(self.index.knnQueryBatch(query, k))\n",
    "        neighbors = np.empty((query.shape[0],k), dtype=int)\n",
    "        distances = np.empty((query.shape[0],k))\n",
    "        for i in range(len(query)):\n",
    "            neighbors[i] = result[i][0] \n",
    "            distances[i] = result[i][1]\n",
    "        return neighbors, distances"
   ]
  },
  {
   "cell_type": "code",
   "execution_count": 15,
   "metadata": {},
   "outputs": [
    {
     "name": "stdout",
     "output_type": "stream",
     "text": [
      "P:\n",
      "  (0, 58)\t1.1123856191126478e-48\n",
      "  (0, 63)\t1.629381818051472e-47\n",
      "  (0, 73)\t1.5443295993298925e-46\n",
      "  (0, 65)\t7.618908252567122e-46\n",
      "  (0, 87)\t1.2659956581135655e-45\n",
      "  (0, 51)\t1.361279451433849e-45\n",
      "  (0, 75)\t3.7587606280968164e-45\n",
      "  (0, 91)\t4.041633163961909e-45\n",
      "  (0, 106)\t5.024286834345004e-45\n",
      "  (0, 78)\t1.1373116778461108e-43\n",
      "  (0, 85)\t2.0320429640373955e-43\n",
      "  (0, 66)\t1.4684333760073635e-41\n",
      "  (0, 74)\t3.770849500982889e-41\n",
      "  (0, 55)\t3.7708940636562237e-41\n",
      "  (0, 84)\t4.687778032095442e-41\n",
      "  (0, 97)\t1.2268324422718476e-39\n",
      "  (0, 90)\t6.052593783026402e-39\n",
      "  (0, 61)\t3.2721531985417874e-37\n",
      "  (0, 94)\t1.0645757646313081e-35\n",
      "  (0, 62)\t1.4229865461859848e-35\n",
      "  (0, 96)\t3.654254097655959e-35\n",
      "  (0, 53)\t1.55931299641511e-34\n",
      "  (0, 71)\t3.463470407810223e-34\n",
      "  (0, 95)\t3.724106684873443e-34\n",
      "  (0, 99)\t7.692885885901127e-34\n",
      "  :\t:\n",
      "  (149, 66)\t7.330877936349828e-05\n",
      "  (149, 116)\t7.599730076727377e-05\n",
      "  (149, 78)\t7.03352077202577e-05\n",
      "  (149, 56)\t0.00010558619198568894\n",
      "  (149, 91)\t8.089484542949024e-05\n",
      "  (149, 110)\t0.00010514943370423587\n",
      "  (149, 146)\t0.00012319205315800593\n",
      "  (149, 137)\t0.00012026321604423454\n",
      "  (149, 103)\t0.00013056033586095764\n",
      "  (149, 114)\t0.00021544346852801004\n",
      "  (149, 147)\t0.0001061385506654824\n",
      "  (149, 111)\t0.00012617327534216203\n",
      "  (149, 63)\t0.00011659041473327155\n",
      "  (149, 113)\t0.0002226519553219883\n",
      "  (149, 133)\t0.00019368156378631995\n",
      "  (149, 123)\t0.00018253938249201694\n",
      "  (149, 126)\t0.0002449212382791976\n",
      "  (149, 121)\t0.0003351397451320423\n",
      "  (149, 83)\t0.0003792148904964361\n",
      "  (149, 70)\t0.0004211395245416383\n",
      "  (149, 101)\t0.0004301334718734168\n",
      "  (149, 142)\t0.0004301334718734168\n",
      "  (149, 138)\t0.0004307341317329757\n",
      "  (149, 127)\t0.00046861379804921465\n",
      "  (149, 149)\t0.00069446280453884\n",
      "\n",
      "knn_index:\n",
      "<__main__.BruteForce object at 0x1177aeac8>\n"
     ]
    }
   ],
   "source": [
    "affinities_train = MultiANNPerplexityBasedNN(\n",
    "    x,\n",
    "    perplexity=30,\n",
    "    method=\"brute_force\",\n",
    "    metric=\"euclidean\",\n",
    "    n_jobs=8,\n",
    "    random_state=42,\n",
    ")\n",
    "\n",
    "#possible solution\n",
    "#affinities_train.knn_index = stelmach.build_knn_index()\n",
    "\n",
    "print(\"P:\")\n",
    "print(affinities_train.P)\n",
    "print(\"\")\n",
    "\n",
    "#print(\"data:\")\n",
    "#print(affinities_train.data)\n",
    "#print(\"\")\n",
    "\n",
    "print(\"knn_index:\")\n",
    "print(affinities_train.knn_index)\n",
    "\n",
    "#print(\".index\")\n",
    "#print(affinities_train.index)\n"
   ]
  },
  {
   "cell_type": "markdown",
   "metadata": {},
   "source": [
    "### ONNG:"
   ]
  },
  {
   "cell_type": "code",
   "execution_count": 16,
   "metadata": {},
   "outputs": [
    {
     "ename": "ImportError",
     "evalue": "dlopen(/Library/Frameworks/Python.framework/Versions/3.7/lib/python3.7/site-packages/ngtpy.cpython-37m-darwin.so, 2): Library not loaded: /usr/local/opt/gcc/lib/gcc/8/libgomp.1.dylib\n  Referenced from: /Library/Frameworks/Python.framework/Versions/3.7/lib/python3.7/site-packages/ngtpy.cpython-37m-darwin.so\n  Reason: image not found",
     "output_type": "error",
     "traceback": [
      "\u001b[0;31m---------------------------------------------------------------------------\u001b[0m",
      "\u001b[0;31mImportError\u001b[0m                               Traceback (most recent call last)",
      "\u001b[0;32m<ipython-input-16-6d1e2d2d4ad1>\u001b[0m in \u001b[0;36m<module>\u001b[0;34m\u001b[0m\n\u001b[1;32m      1\u001b[0m \u001b[0;31m#from __future__ import absolute_import\u001b[0m\u001b[0;34m\u001b[0m\u001b[0;34m\u001b[0m\u001b[0;34m\u001b[0m\u001b[0m\n\u001b[0;32m----> 2\u001b[0;31m \u001b[0;32mimport\u001b[0m \u001b[0mngtpy\u001b[0m\u001b[0;34m\u001b[0m\u001b[0;34m\u001b[0m\u001b[0m\n\u001b[0m\u001b[1;32m      3\u001b[0m \u001b[0;32mimport\u001b[0m \u001b[0mnumpy\u001b[0m \u001b[0;32mas\u001b[0m \u001b[0mnp\u001b[0m\u001b[0;34m\u001b[0m\u001b[0;34m\u001b[0m\u001b[0m\n\u001b[1;32m      4\u001b[0m \u001b[0;32mimport\u001b[0m \u001b[0mos\u001b[0m\u001b[0;34m\u001b[0m\u001b[0;34m\u001b[0m\u001b[0m\n\u001b[1;32m      5\u001b[0m \u001b[0;32mimport\u001b[0m \u001b[0msubprocess\u001b[0m\u001b[0;34m\u001b[0m\u001b[0;34m\u001b[0m\u001b[0m\n",
      "\u001b[0;31mImportError\u001b[0m: dlopen(/Library/Frameworks/Python.framework/Versions/3.7/lib/python3.7/site-packages/ngtpy.cpython-37m-darwin.so, 2): Library not loaded: /usr/local/opt/gcc/lib/gcc/8/libgomp.1.dylib\n  Referenced from: /Library/Frameworks/Python.framework/Versions/3.7/lib/python3.7/site-packages/ngtpy.cpython-37m-darwin.so\n  Reason: image not found"
     ]
    }
   ],
   "source": [
    "#from __future__ import absolute_import\n",
    "import ngtpy\n",
    "import numpy as np\n",
    "import os\n",
    "import subprocess\n",
    "\n",
    "class ONNG(KNNIndex):\n",
    "    #VALID_METRICS = neighbors.ONNG.valid_metrics\n",
    "    \n",
    "    def build(self, data):\n",
    "        #metrics = {'euclidean': '2', 'angular': 'C'}\n",
    "        method_param = init_method_param(\"onng\")\n",
    "        n_items, dim = data.shape \n",
    "        self._edge_size = method_param[\"edge\"]\n",
    "        self._outdegree = method_param[\"outdegree\"]\n",
    "        self._indegree = method_param[\"indegree\"]\n",
    "        self._object_type = method_param[\"object_type\"]\n",
    "        self._edge_size_for_search = method_param[\"edge_size_for_search\"]\n",
    "        self._build_time_limit = method_param[\"build_time_limit\"]\n",
    "        self._epsilon = method_param[\"epsilon\"]\n",
    "            \n",
    "            \n",
    "            \n",
    "        print('ONNG: start indexing...')\n",
    "        print('ONNG: # of data=' + str(len(data)))\n",
    "        print('ONNG: dimensionality=' + str(dim))\n",
    "        index_dir = 'indexes'\n",
    "        if not os.path.exists(index_dir):\n",
    "            os.makedirs(index_dir)\n",
    "        index = os.path.join(\n",
    "            index_dir,\n",
    "            'ONNG-{}-{}-{}'.format(self._edge_size, self._outdegree,\n",
    "                                   self._indegree))\n",
    "        anngIndex = os.path.join(index_dir, 'ANNG-' + str(self._edge_size))\n",
    "        print('ONNG: index=' + index)\n",
    "        if (not os.path.exists(index)) and (not os.path.exists(anngIndex)):\n",
    "            print('ONNG: create ANNG')\n",
    "            t = time.time()\n",
    "            args = ['ngt', 'create', '-it', '-p8', '-b500', '-ga', '-of',\n",
    "                    '-D' + self.metric, '-d' + str(dim),\n",
    "                    '-E' + str(self._edge_size), '-S0',\n",
    "                    '-e' + str(self._epsilon), '-P0', '-B30',\n",
    "                    '-T' + str(self._build_time_limit), anngIndex]\n",
    "            subprocess.call(args)\n",
    "            idx = ngt.Index(path=anngIndex)\n",
    "            idx.batch_insert(data, num_threads=24, debug=False)\n",
    "            idx.save()\n",
    "            idx.close()\n",
    "            print('ONNG: ANNG construction time(sec)=' + str(time.time() - t))\n",
    "        if not os.path.exists(index):\n",
    "            print('ONNG: degree adjustment')\n",
    "            t = time.time()\n",
    "            args = ['ngt', 'reconstruct-graph', '-mS',\n",
    "                    '-o ' + str(self._outdegree),\n",
    "                    '-i ' + str(self._indegree), anngIndex, index]\n",
    "            subprocess.call(args)\n",
    "            print('ONNG: degree adjustment time(sec)=' + str(time.time() - t))\n",
    "        if os.path.exists(index):\n",
    "            print('ONNG: index already exists! ' + str(index))\n",
    "            t = time.time()\n",
    "            self.index = ngt.Index(index, read_only=True)\n",
    "            self.indexName = index\n",
    "            print('ONNG: open time(sec)=' + str(time.time() - t))\n",
    "        else:\n",
    "            print('ONNG: something wrong.')\n",
    "        print('ONNG: end of fit')\n",
    "        \n",
    "    \n",
    "    def query_train(self, data, k):\n",
    "        results = self.index.search(\n",
    "            data, k, self._epsilon, self._edge_size_for_search,\n",
    "            with_distance=False)\n",
    "        return results\n",
    "    \n",
    "    \"\"\"\n",
    "    def query_train(self, data, k):    \n",
    "        neighbors, distances = self.index.search(\n",
    "            v, k, self._epsilon, self._edge_size_for_search,\n",
    "            with_distance=False)\n",
    "        return neighbors, distances\n",
    "        \n",
    "        \n",
    "    def query(self, query, k):\n",
    "        #check in what format results are, get neighbors, distances\n",
    "        neighbors, distances = self.index.search(\n",
    "            v, k, self._epsilon, self._edge_size_for_search,\n",
    "            with_distance=False)\n",
    "        return neighbors, distances\n",
    "    \"\"\""
   ]
  },
  {
   "cell_type": "markdown",
   "metadata": {},
   "source": [
    "### FLANN:"
   ]
  },
  {
   "cell_type": "code",
   "execution_count": 17,
   "metadata": {},
   "outputs": [
    {
     "ename": "ModuleNotFoundError",
     "evalue": "No module named 'pyflann'",
     "output_type": "error",
     "traceback": [
      "\u001b[0;31m---------------------------------------------------------------------------\u001b[0m",
      "\u001b[0;31mModuleNotFoundError\u001b[0m                       Traceback (most recent call last)",
      "\u001b[0;32m<ipython-input-17-104417a4c19e>\u001b[0m in \u001b[0;36m<module>\u001b[0;34m\u001b[0m\n\u001b[0;32m----> 1\u001b[0;31m \u001b[0;32mimport\u001b[0m \u001b[0mpyflann\u001b[0m\u001b[0;34m\u001b[0m\u001b[0;34m\u001b[0m\u001b[0m\n\u001b[0m\u001b[1;32m      2\u001b[0m \u001b[0;34m\u001b[0m\u001b[0m\n\u001b[1;32m      3\u001b[0m \u001b[0;32mclass\u001b[0m \u001b[0mFLANN\u001b[0m\u001b[0;34m(\u001b[0m\u001b[0mKNNIndex\u001b[0m\u001b[0;34m)\u001b[0m\u001b[0;34m:\u001b[0m\u001b[0;34m\u001b[0m\u001b[0;34m\u001b[0m\u001b[0m\n\u001b[1;32m      4\u001b[0m     \u001b[0;31m#VALID_METRICS = neighbors.Flann.valid_metrics\u001b[0m\u001b[0;34m\u001b[0m\u001b[0;34m\u001b[0m\u001b[0;34m\u001b[0m\u001b[0m\n\u001b[1;32m      5\u001b[0m \u001b[0;34m\u001b[0m\u001b[0m\n",
      "\u001b[0;31mModuleNotFoundError\u001b[0m: No module named 'pyflann'"
     ]
    }
   ],
   "source": [
    "import pyflann\n",
    "\n",
    "class FLANN(KNNIndex):\n",
    "    #VALID_METRICS = neighbors.Flann.valid_metrics\n",
    "    \n",
    "    def build(self, data):\n",
    "        #parameters init\n",
    "        if self.method_param == None:\n",
    "            self.method_param = {}\n",
    "            self.method_param['target_precision'] = 0.9  # want 90% target precision  \n",
    "        self._metric = metric\n",
    "        \n",
    "        self.index = pyflann.FLANN(\n",
    "            target_precision=self._target_precision,\n",
    "            algorithm='autotuned', \n",
    "            log_level='info')\n",
    "        if self._metric == 'angular':\n",
    "            data = sklearn.preprocessing.normalize(data, axis=1, norm='l2')\n",
    "        self.index.build_index(data)\n",
    "\n",
    "\n",
    "###### \n",
    "    def query_train(self, data, k):\n",
    "        if self._metric == 'angular':\n",
    "            v = sklearn.preprocessing.normalize([v], axis=1, norm='l2')[0]\n",
    "        if v.dtype != numpy.float32:\n",
    "            v = v.astype(numpy.float32)\n",
    "        return self._flann.nn_index(v, n)[0][0]\n",
    "\n",
    "    def query(self, query, k):\n",
    "        if self._metric == 'angular':\n",
    "            v = sklearn.preprocessing.normalize([v], axis=1, norm='l2')[0]\n",
    "        if v.dtype != numpy.float32:\n",
    "            v = v.astype(numpy.float32)\n",
    "        return self._flann.nn_index(v, n)[0][0]"
   ]
  },
  {
   "cell_type": "markdown",
   "metadata": {},
   "source": [
    "### RPForest:"
   ]
  },
  {
   "cell_type": "code",
   "execution_count": 18,
   "metadata": {},
   "outputs": [
    {
     "ename": "SyntaxError",
     "evalue": "invalid syntax (<ipython-input-18-dc236bdc2d55>, line 11)",
     "output_type": "error",
     "traceback": [
      "\u001b[0;36m  File \u001b[0;32m\"<ipython-input-18-dc236bdc2d55>\"\u001b[0;36m, line \u001b[0;32m11\u001b[0m\n\u001b[0;31m    leaf_size = ?\u001b[0m\n\u001b[0m                ^\u001b[0m\n\u001b[0;31mSyntaxError\u001b[0m\u001b[0;31m:\u001b[0m invalid syntax\n"
     ]
    }
   ],
   "source": [
    "import rpforest\n",
    "import numpy\n",
    "\n",
    "\n",
    "class RPForest(KNNIndex):\n",
    "    #VALID_METRICS = neighbors.Annoy.valid_metrics\n",
    "    \n",
    "    def build(self, data):\n",
    "        n_trees = 5 + int(round((data.shape[0]) ** 0.5 / 20))\n",
    "        #n_iters = max(5, int(round(np.log2(data.shape[0]))))\n",
    "        leaf_size = ?\n",
    "        \n",
    "        self.index = rpforest.RPForest(leaf_size=leaf_size, no_trees=n_trees)\n",
    "        \n",
    "        #if data.dtype != numpy.double:\n",
    "        #    data = numpy.array(data).astype(numpy.double)\n",
    "        self.index.fit(data)\n",
    "\n",
    "    def query_train(self, data, k):\n",
    "        neighbors, distances = self._model.query(data[0], k)\n",
    "        return neighbors, distances\n",
    "\n",
    "    def query(self, query, k):\n",
    "        neighbors, distances = self._model.query(data[0], k)\n",
    "        return neighbors, distances"
   ]
  },
  {
   "cell_type": "markdown",
   "metadata": {},
   "source": [
    "### Hnswlib:"
   ]
  },
  {
   "cell_type": "code",
   "execution_count": 19,
   "metadata": {},
   "outputs": [
    {
     "name": "stdout",
     "output_type": "stream",
     "text": [
      "CPU times: user 2 µs, sys: 0 ns, total: 2 µs\n",
      "Wall time: 6.91 µs\n"
     ]
    },
    {
     "ename": "ModuleNotFoundError",
     "evalue": "No module named 'hnswlib'",
     "output_type": "error",
     "traceback": [
      "\u001b[0;31m---------------------------------------------------------------------------\u001b[0m",
      "\u001b[0;31mModuleNotFoundError\u001b[0m                       Traceback (most recent call last)",
      "\u001b[0;32m<ipython-input-19-a3af02d6b192>\u001b[0m in \u001b[0;36m<module>\u001b[0;34m\u001b[0m\n\u001b[1;32m      1\u001b[0m \u001b[0mget_ipython\u001b[0m\u001b[0;34m(\u001b[0m\u001b[0;34m)\u001b[0m\u001b[0;34m.\u001b[0m\u001b[0mrun_line_magic\u001b[0m\u001b[0;34m(\u001b[0m\u001b[0;34m'time'\u001b[0m\u001b[0;34m,\u001b[0m \u001b[0;34m''\u001b[0m\u001b[0;34m)\u001b[0m\u001b[0;34m\u001b[0m\u001b[0;34m\u001b[0m\u001b[0m\n\u001b[1;32m      2\u001b[0m \u001b[0;34m\u001b[0m\u001b[0m\n\u001b[0;32m----> 3\u001b[0;31m \u001b[0;32mimport\u001b[0m \u001b[0mhnswlib\u001b[0m\u001b[0;34m\u001b[0m\u001b[0;34m\u001b[0m\u001b[0m\n\u001b[0m\u001b[1;32m      4\u001b[0m \u001b[0;32mimport\u001b[0m \u001b[0mnumpy\u001b[0m \u001b[0;32mas\u001b[0m \u001b[0mnp\u001b[0m\u001b[0;34m\u001b[0m\u001b[0;34m\u001b[0m\u001b[0m\n\u001b[1;32m      5\u001b[0m \u001b[0;34m\u001b[0m\u001b[0m\n",
      "\u001b[0;31mModuleNotFoundError\u001b[0m: No module named 'hnswlib'"
     ]
    }
   ],
   "source": [
    "%time\n",
    "\n",
    "import hnswlib\n",
    "import numpy as np\n",
    "\n",
    "\n",
    "class HnswLib(KNNIndex):\n",
    "    #VALID_METRICS = neighbors.Annoy.valid_metrics\n",
    "    \n",
    "    def build(self,data):  \n",
    "        #parameter init\n",
    "        #self.metric = {'angular': 'cosine', 'euclidean': 'l2'}[metric]\n",
    "        if self.method_param == None:\n",
    "            self.method_param = {}\n",
    "            self.method_param[\"efConstruction\"] = 200\n",
    "            self.method_param[\"M\"] = 16\n",
    "            self.method_param[\"efRecall\"] = 10\n",
    "            #self.name = 'hnswlib (%s)' % (self.method_param)\n",
    "        \n",
    "        \n",
    "        self.index = hnswlib.Index(space=self.metric, dim=len(data[0]))\n",
    "        self.index.init_index(max_elements=len(data),\n",
    "                          ef_construction=self.method_param[\"efConstruction\"],\n",
    "                          M=self.method_param[\"M\"])\n",
    "        data_labels = np.arange(len(data))\n",
    "        self.index.add_items(np.asarray(data), data_labels)\n",
    "        self.index.set_num_threads(self.n_jobs)\n",
    "        self.index.set_ef(self.method_param[\"efRecall\"])\n",
    "\n",
    "    def query(self, query, k):\n",
    "        neighbors, distances = self.index.knn_query(query, k=k)\n",
    "        return neighbors, distances\n",
    "    \n",
    "    def query_train(self, data, k):\n",
    "        neighbors, distances = self.index.knn_query(data, k=k)\n",
    "        return neighbors, distances"
   ]
  },
  {
   "cell_type": "markdown",
   "metadata": {},
   "source": [
    "### NearPy"
   ]
  },
  {
   "cell_type": "code",
   "execution_count": 20,
   "metadata": {},
   "outputs": [],
   "source": [
    "from openTSNE.nearest_neighbors import KNNIndex\n",
    "import nearpy\n",
    "from nearpy.filters import NearestFilter\n",
    "import sklearn.preprocessing\n",
    "\n",
    "class NearPy(KNNIndex):\n",
    "    #VALID_METRICS = neighbors.NearPy.valid_metrics\n",
    "    #METHOD_PARAMS = neighbors.NearPy.params (text/config file)\n",
    "    \n",
    "    def build(self, data): \n",
    "        n_items, vector_length = data.shape\n",
    "        print(data.shape)\n",
    "        #parameters init\n",
    "        method_param = init_method_param(\"nearpy\")\n",
    "        hash_counts = method_param[\"hash_counts\"]\n",
    "        n_bits = method_param[\"n_bits\"]\n",
    "        \n",
    "        self.filter = NearestFilter(10)\n",
    "        \n",
    "        hashes = []\n",
    "        for k in range(hash_counts):\n",
    "            nearpy_rbp = nearpy.hashes.RandomBinaryProjections(\n",
    "                'rbp_%d' % k, n_bits)\n",
    "            hashes.append(nearpy_rbp)\n",
    "\n",
    "        if self.metric == 'euclidean':\n",
    "            dist = nearpy.distances.EuclideanDistance()\n",
    "            self.index = nearpy.Engine(\n",
    "                vector_length,\n",
    "                lshashes=hashes,\n",
    "                distance=dist,\n",
    "                vector_filters=[self.filter])\n",
    "        else:  # Default (angular) = Cosine distance\n",
    "            self.index = nearpy.Engine(\n",
    "                vector_length,\n",
    "                lshashes=hashes,\n",
    "                vector_filters=[self.filter])\n",
    "            \n",
    "        #if self.metric == 'angular':\n",
    "            #data = sklearn.preprocessing.normalize(data, axis=1, norm='l2')\n",
    "        for i, x in enumerate(data):\n",
    "            self.index.store_vector(x, i)\n",
    "            \n",
    "    def query_train(self, data, k):\n",
    "        self.filter.N = k\n",
    "        #if self.metric == 'angular':\n",
    "            #data = sklearn.preprocessing.normalize([data], axis=1, norm='l2')[0]\n",
    "        \n",
    "        neighbors = np.empty((data.shape[0],k), dtype=int)\n",
    "        distances = np.empty((data.shape[0],k))\n",
    "        \n",
    "        for i in range(len(data)):\n",
    "            item_single = self.index.neighbours(data[i])\n",
    "            dp_n = []\n",
    "            dp_d = []\n",
    "            for j in range(len(item_single)):\n",
    "                dp_n.append(item_single[j][1])\n",
    "                dp_d.append(item_single[j][2])\n",
    "            neighbors[i] = np.asarray(dp_n)\n",
    "            distances[i] = np.asarray(dp_d)\n",
    "            \n",
    "        return neighbors, distances\n",
    "\n",
    "    def query(self, query, k):\n",
    "        self.filter.N = k\n",
    "        #if self.metric == 'angular':\n",
    "        #    query = sklearn.preprocessing.normalize([query], axis=1, norm='l2')[0]\n",
    "        neighbors = np.empty((query.shape[0],k), dtype=int)\n",
    "        distances = np.empty((query.shape[0],k))\n",
    "        \n",
    "        for i in range(len(query)):\n",
    "            item_single = self.index.neighbours(data[i])\n",
    "            dp_n = []\n",
    "            dp_d = []\n",
    "            for j in range(len(item_single)):\n",
    "                dp_n.append(item_single[j][1])\n",
    "                dp_d.append(item_single[j][2])\n",
    "            neighbors[i] = np.asarray(dp_n)\n",
    "            distances[i] = np.asarray(dp_d)\n",
    "            \n",
    "        return neighbors, distances"
   ]
  },
  {
   "cell_type": "markdown",
   "metadata": {},
   "source": [
    "### Annoy:"
   ]
  },
  {
   "cell_type": "code",
   "execution_count": 21,
   "metadata": {},
   "outputs": [],
   "source": [
    "from openTSNE.nearest_neighbors import KNNIndex\n",
    "import annoy\n",
    "import numpy as np\n",
    "\n",
    "class Annoy(KNNIndex):\n",
    "    #VALID_METRICS = neighbors.Annoy.valid_metrics\n",
    "    \n",
    "    def build(self, data):\n",
    "        n_items, vector_length = data.shape\n",
    "        #initalize parameters\n",
    "        method_param = init_method_param(\"annoy\", data)\n",
    "        ntrees = method_param[\"ntrees\"]\n",
    "        #build index\n",
    "        self.index = annoy.AnnoyIndex(vector_length, metric=self.metric)\n",
    "        for i in range(n_items):\n",
    "            self.index.add_item(i, data[i])\n",
    "        self.index.build(ntrees)\n",
    "        \n",
    "    def query_train(self, data, k):\n",
    "        #add search_k parameter: tradeoff between speed and accuracy?\n",
    "        #neighbors_single, distances_single = np.asarray(self.index.get_nns_by_vector(data[i], n=k, search_k=-1, include_distances=True))\n",
    "        #output array with points x neighbors:\n",
    "        neighbors = np.empty((data.shape[0],k), dtype=int)\n",
    "        distances = np.empty((data.shape[0],k))\n",
    "        for i in range(len(data)):\n",
    "            neighbors_single, distances_single = np.asarray(self.index.get_nns_by_item(i, n=k, search_k=-1 ,include_distances=True))\n",
    "            neighbors[i] = neighbors_single\n",
    "            distances[i] = distances_single\n",
    "        print(\"neighbors.shape: {}\".format(neighbors.shape))\n",
    "        print(\"neighbors[0]: {}\".format(neighbors[0]))\n",
    "        print(neighbors.shape)\n",
    "        print(\"distances.shape: {}\".format(distances.shape))\n",
    "        print(\"distances[0]: {}\".format(distances[0]))\n",
    "        return neighbors, distances\n",
    "\n",
    "    def query(self, query, k):\n",
    "        neighbors = np.empty((query.shape[0],k), dtype=int)\n",
    "        distances = np.empty((query.shape[0],k))\n",
    "        for i in range(len(query)):\n",
    "            neighbors_single, distances_single = np.asarray(self.index.get_nns_by_vector(query[i], n=k, search_k=-1, include_distances=True))\n",
    "            neighbors[i] = neighbors_single\n",
    "            distances[i] = distances_single\n",
    "        return neighbors, distances"
   ]
  },
  {
   "cell_type": "code",
   "execution_count": 22,
   "metadata": {},
   "outputs": [],
   "source": [
    "### Test:"
   ]
  },
  {
   "cell_type": "code",
   "execution_count": 23,
   "metadata": {
    "scrolled": true
   },
   "outputs": [
    {
     "ename": "TypeError",
     "evalue": "build() missing 1 required positional argument: 'k'",
     "output_type": "error",
     "traceback": [
      "\u001b[0;31m---------------------------------------------------------------------------\u001b[0m",
      "\u001b[0;31mTypeError\u001b[0m                                 Traceback (most recent call last)",
      "\u001b[0;32m<ipython-input-23-76425da89c09>\u001b[0m in \u001b[0;36m<module>\u001b[0;34m\u001b[0m\n\u001b[1;32m      5\u001b[0m     \u001b[0mmetric\u001b[0m\u001b[0;34m=\u001b[0m\u001b[0;34m\"euclidean\"\u001b[0m\u001b[0;34m,\u001b[0m\u001b[0;34m\u001b[0m\u001b[0;34m\u001b[0m\u001b[0m\n\u001b[1;32m      6\u001b[0m     \u001b[0mn_jobs\u001b[0m\u001b[0;34m=\u001b[0m\u001b[0;36m8\u001b[0m\u001b[0;34m,\u001b[0m\u001b[0;34m\u001b[0m\u001b[0;34m\u001b[0m\u001b[0m\n\u001b[0;32m----> 7\u001b[0;31m     \u001b[0mrandom_state\u001b[0m\u001b[0;34m=\u001b[0m\u001b[0;36m42\u001b[0m\u001b[0;34m,\u001b[0m\u001b[0;34m\u001b[0m\u001b[0;34m\u001b[0m\u001b[0m\n\u001b[0m\u001b[1;32m      8\u001b[0m )\n\u001b[1;32m      9\u001b[0m \u001b[0;34m\u001b[0m\u001b[0m\n",
      "\u001b[0;32m<ipython-input-7-79ef9678ae42>\u001b[0m in \u001b[0;36m__init__\u001b[0;34m(self, data, perplexity, method, metric, metric_params, symmetrize, n_jobs, random_state)\u001b[0m\n\u001b[1;32m     33\u001b[0m \u001b[0;34m\u001b[0m\u001b[0m\n\u001b[1;32m     34\u001b[0m         self.knn_index = build_knn_index(\n\u001b[0;32m---> 35\u001b[0;31m             \u001b[0mdata\u001b[0m\u001b[0;34m,\u001b[0m \u001b[0mmethod\u001b[0m\u001b[0;34m,\u001b[0m \u001b[0mmetric\u001b[0m\u001b[0;34m,\u001b[0m \u001b[0mmetric_params\u001b[0m\u001b[0;34m,\u001b[0m \u001b[0mn_jobs\u001b[0m\u001b[0;34m,\u001b[0m \u001b[0mrandom_state\u001b[0m\u001b[0;34m\u001b[0m\u001b[0;34m\u001b[0m\u001b[0m\n\u001b[0m\u001b[1;32m     36\u001b[0m         )\n\u001b[1;32m     37\u001b[0m \u001b[0;34m\u001b[0m\u001b[0m\n",
      "\u001b[0;32m<ipython-input-7-79ef9678ae42>\u001b[0m in \u001b[0;36mbuild_knn_index\u001b[0;34m(data, method, metric, metric_params, n_jobs, random_state)\u001b[0m\n\u001b[1;32m    103\u001b[0m         )\n\u001b[1;32m    104\u001b[0m \u001b[0;34m\u001b[0m\u001b[0m\n\u001b[0;32m--> 105\u001b[0;31m     \u001b[0mknn_index\u001b[0m\u001b[0;34m.\u001b[0m\u001b[0mbuild\u001b[0m\u001b[0;34m(\u001b[0m\u001b[0mdata\u001b[0m\u001b[0;34m)\u001b[0m\u001b[0;34m\u001b[0m\u001b[0;34m\u001b[0m\u001b[0m\n\u001b[0m\u001b[1;32m    106\u001b[0m \u001b[0;34m\u001b[0m\u001b[0m\n\u001b[1;32m    107\u001b[0m     \u001b[0;32mreturn\u001b[0m \u001b[0mknn_index\u001b[0m\u001b[0;34m\u001b[0m\u001b[0;34m\u001b[0m\u001b[0m\n",
      "\u001b[0;31mTypeError\u001b[0m: build() missing 1 required positional argument: 'k'"
     ]
    }
   ],
   "source": [
    "affinities_train = MultiANNPerplexityBasedNN(\n",
    "    x,\n",
    "    perplexity=30,\n",
    "    method=\"exact\",\n",
    "    metric=\"euclidean\",\n",
    "    n_jobs=8,\n",
    "    random_state=42,\n",
    ")\n",
    "\n",
    "#possible solution\n",
    "#affinities_train.knn_index = stelmach.build_knn_index()\n",
    "\n",
    "print(\"P:\")\n",
    "print(affinities_train.P)\n",
    "print(\"\")\n",
    "\n",
    "#print(\"data:\")\n",
    "#print(affinities_train.data)\n",
    "#print(\"\")\n",
    "\n",
    "print(\"knn_index:\")\n",
    "print(affinities_train.knn_index)\n",
    "\n",
    "#print(\".index\")\n",
    "#print(affinities_train.index)\n"
   ]
  },
  {
   "cell_type": "markdown",
   "metadata": {
    "scrolled": true
   },
   "source": [
    "affinities_train = MultiANNPerplexityBasedNN(\n",
    "    x,\n",
    "    perplexity=30,\n",
    "    method=\"approx\",\n",
    "    metric=\"euclidean\",\n",
    "    n_jobs=8,\n",
    "    random_state=42,\n",
    ")\n",
    "\n",
    "#possible solution\n",
    "#affinities_train.knn_index = stelmach.build_knn_index()\n",
    "\n",
    "print(\"P:\")\n",
    "print(affinities_train.P)\n",
    "print(\"\")\n",
    "\n",
    "#print(\"data:\")\n",
    "#print(affinities_train.data)\n",
    "#print(\"\")\n",
    "\n",
    "print(\"knn_index:\")\n",
    "print(affinities_train.knn_index)\n",
    "\n",
    "#print(\".index\")\n",
    "#print(affinities_train.index)\n"
   ]
  },
  {
   "cell_type": "markdown",
   "metadata": {},
   "source": [
    "**2. Generate initial coordinates for our embedding**"
   ]
  },
  {
   "cell_type": "code",
   "execution_count": 24,
   "metadata": {},
   "outputs": [
    {
     "name": "stdout",
     "output_type": "stream",
     "text": [
      "CPU times: user 925 µs, sys: 230 µs, total: 1.16 ms\n",
      "Wall time: 1.07 ms\n"
     ]
    }
   ],
   "source": [
    "%time init_train = initialization.pca(x_train, random_state=42)"
   ]
  },
  {
   "cell_type": "markdown",
   "metadata": {},
   "source": [
    "**3. Construct the `TSNEEmbedding` object**"
   ]
  },
  {
   "cell_type": "code",
   "execution_count": 35,
   "metadata": {},
   "outputs": [
    {
     "name": "stdout",
     "output_type": "stream",
     "text": [
      "CPU times: user 3 µs, sys: 0 ns, total: 3 µs\n",
      "Wall time: 6.91 µs\n",
      "(100, 4)\n"
     ]
    },
    {
     "ename": "ValueError",
     "evalue": "could not broadcast input array from shape (69) into shape (90)",
     "output_type": "error",
     "traceback": [
      "\u001b[0;31m---------------------------------------------------------------------------\u001b[0m",
      "\u001b[0;31mValueError\u001b[0m                                Traceback (most recent call last)",
      "\u001b[0;32m<ipython-input-35-8f9de7ae7cd5>\u001b[0m in \u001b[0;36m<module>\u001b[0;34m\u001b[0m\n\u001b[1;32m      6\u001b[0m     \u001b[0mmetric\u001b[0m\u001b[0;34m=\u001b[0m\u001b[0;34m\"euclidean\"\u001b[0m\u001b[0;34m,\u001b[0m\u001b[0;34m\u001b[0m\u001b[0;34m\u001b[0m\u001b[0m\n\u001b[1;32m      7\u001b[0m     \u001b[0mn_jobs\u001b[0m\u001b[0;34m=\u001b[0m\u001b[0;36m8\u001b[0m\u001b[0;34m,\u001b[0m\u001b[0;34m\u001b[0m\u001b[0;34m\u001b[0m\u001b[0m\n\u001b[0;32m----> 8\u001b[0;31m     \u001b[0mrandom_state\u001b[0m\u001b[0;34m=\u001b[0m\u001b[0;36m42\u001b[0m\u001b[0;34m,\u001b[0m\u001b[0;34m\u001b[0m\u001b[0;34m\u001b[0m\u001b[0m\n\u001b[0m\u001b[1;32m      9\u001b[0m )\n\u001b[1;32m     10\u001b[0m \u001b[0;34m\u001b[0m\u001b[0m\n",
      "\u001b[0;32m<ipython-input-7-79ef9678ae42>\u001b[0m in \u001b[0;36m__init__\u001b[0;34m(self, data, perplexity, method, metric, metric_params, symmetrize, n_jobs, random_state)\u001b[0m\n\u001b[1;32m     40\u001b[0m         \u001b[0mk_neighbors\u001b[0m \u001b[0;34m=\u001b[0m \u001b[0mmin\u001b[0m\u001b[0;34m(\u001b[0m\u001b[0mself\u001b[0m\u001b[0;34m.\u001b[0m\u001b[0mn_samples\u001b[0m \u001b[0;34m-\u001b[0m \u001b[0;36m1\u001b[0m\u001b[0;34m,\u001b[0m \u001b[0mint\u001b[0m\u001b[0;34m(\u001b[0m\u001b[0;36m3\u001b[0m \u001b[0;34m*\u001b[0m \u001b[0mself\u001b[0m\u001b[0;34m.\u001b[0m\u001b[0mperplexity\u001b[0m\u001b[0;34m)\u001b[0m\u001b[0;34m)\u001b[0m\u001b[0;34m\u001b[0m\u001b[0;34m\u001b[0m\u001b[0m\n\u001b[1;32m     41\u001b[0m         self.__neighbors, self.__distances = self.knn_index.query_train(\n\u001b[0;32m---> 42\u001b[0;31m             \u001b[0mdata\u001b[0m\u001b[0;34m,\u001b[0m \u001b[0mk\u001b[0m\u001b[0;34m=\u001b[0m\u001b[0mk_neighbors\u001b[0m\u001b[0;34m\u001b[0m\u001b[0;34m\u001b[0m\u001b[0m\n\u001b[0m\u001b[1;32m     43\u001b[0m         )\n\u001b[1;32m     44\u001b[0m         \u001b[0;31m#print(\"Neighbors:\")\u001b[0m\u001b[0;34m\u001b[0m\u001b[0;34m\u001b[0m\u001b[0;34m\u001b[0m\u001b[0m\n",
      "\u001b[0;32m<ipython-input-20-88375891e8f9>\u001b[0m in \u001b[0;36mquery_train\u001b[0;34m(self, data, k)\u001b[0m\n\u001b[1;32m     57\u001b[0m                 \u001b[0mdp_n\u001b[0m\u001b[0;34m.\u001b[0m\u001b[0mappend\u001b[0m\u001b[0;34m(\u001b[0m\u001b[0mitem_single\u001b[0m\u001b[0;34m[\u001b[0m\u001b[0mj\u001b[0m\u001b[0;34m]\u001b[0m\u001b[0;34m[\u001b[0m\u001b[0;36m1\u001b[0m\u001b[0;34m]\u001b[0m\u001b[0;34m)\u001b[0m\u001b[0;34m\u001b[0m\u001b[0;34m\u001b[0m\u001b[0m\n\u001b[1;32m     58\u001b[0m                 \u001b[0mdp_d\u001b[0m\u001b[0;34m.\u001b[0m\u001b[0mappend\u001b[0m\u001b[0;34m(\u001b[0m\u001b[0mitem_single\u001b[0m\u001b[0;34m[\u001b[0m\u001b[0mj\u001b[0m\u001b[0;34m]\u001b[0m\u001b[0;34m[\u001b[0m\u001b[0;36m2\u001b[0m\u001b[0;34m]\u001b[0m\u001b[0;34m)\u001b[0m\u001b[0;34m\u001b[0m\u001b[0;34m\u001b[0m\u001b[0m\n\u001b[0;32m---> 59\u001b[0;31m             \u001b[0mneighbors\u001b[0m\u001b[0;34m[\u001b[0m\u001b[0mi\u001b[0m\u001b[0;34m]\u001b[0m \u001b[0;34m=\u001b[0m \u001b[0mnp\u001b[0m\u001b[0;34m.\u001b[0m\u001b[0masarray\u001b[0m\u001b[0;34m(\u001b[0m\u001b[0mdp_n\u001b[0m\u001b[0;34m)\u001b[0m\u001b[0;34m\u001b[0m\u001b[0;34m\u001b[0m\u001b[0m\n\u001b[0m\u001b[1;32m     60\u001b[0m             \u001b[0mdistances\u001b[0m\u001b[0;34m[\u001b[0m\u001b[0mi\u001b[0m\u001b[0;34m]\u001b[0m \u001b[0;34m=\u001b[0m \u001b[0mnp\u001b[0m\u001b[0;34m.\u001b[0m\u001b[0masarray\u001b[0m\u001b[0;34m(\u001b[0m\u001b[0mdp_d\u001b[0m\u001b[0;34m)\u001b[0m\u001b[0;34m\u001b[0m\u001b[0;34m\u001b[0m\u001b[0m\n\u001b[1;32m     61\u001b[0m \u001b[0;34m\u001b[0m\u001b[0m\n",
      "\u001b[0;31mValueError\u001b[0m: could not broadcast input array from shape (69) into shape (90)"
     ]
    }
   ],
   "source": [
    "%time \n",
    "affinities_train = MultiANNPerplexityBasedNN(\n",
    "    x_train,\n",
    "    perplexity=30,\n",
    "    method=\"nearpy\",\n",
    "    metric=\"euclidean\",\n",
    "    n_jobs=8,\n",
    "    random_state=42,\n",
    ")\n",
    "\n",
    "\n",
    "%time\n",
    "\n",
    "embedding_train = TSNEEmbedding(\n",
    "    init_train,\n",
    "    affinities_train,\n",
    "    negative_gradient_method=\"fft\",\n",
    "    n_jobs=8,\n",
    "    callbacks=ErrorLogger(),\n",
    ")"
   ]
  },
  {
   "cell_type": "markdown",
   "metadata": {},
   "source": [
    "**4. Optimize embedding**"
   ]
  },
  {
   "cell_type": "markdown",
   "metadata": {},
   "source": [
    "1. Early exaggeration phase"
   ]
  },
  {
   "cell_type": "code",
   "execution_count": 26,
   "metadata": {},
   "outputs": [
    {
     "name": "stdout",
     "output_type": "stream",
     "text": [
      "Iteration   50, KL divergence  1.4750, 50 iterations in 1.3915 sec\n",
      "Iteration  100, KL divergence  1.3577, 50 iterations in 1.6150 sec\n",
      "Iteration  150, KL divergence  1.3317, 50 iterations in 1.5133 sec\n",
      "Iteration  200, KL divergence  1.2149, 50 iterations in 1.4036 sec\n",
      "Iteration  250, KL divergence  1.4277, 50 iterations in 1.6524 sec\n",
      "CPU times: user 7.34 s, sys: 137 ms, total: 7.48 s\n",
      "Wall time: 7.6 s\n"
     ]
    }
   ],
   "source": [
    "%time embedding_train_1 = embedding_train.optimize(n_iter=250, exaggeration=12, momentum=0.5)"
   ]
  },
  {
   "cell_type": "code",
   "execution_count": 27,
   "metadata": {},
   "outputs": [
    {
     "data": {
      "image/png": "[encoded data removed]",
      "text/plain": [
       "<Figure size 576x576 with 1 Axes>"
      ]
     },
     "metadata": {},
     "output_type": "display_data"
    }
   ],
   "source": [
    "import utils\n",
    "\n",
    "utils.plot(embedding_train_1, y_train)"
   ]
  },
  {
   "cell_type": "code",
   "execution_count": 28,
   "metadata": {},
   "outputs": [
    {
     "name": "stdout",
     "output_type": "stream",
     "text": [
      "Iteration   50, KL divergence  0.1863, 50 iterations in 1.7850 sec\n",
      "Iteration  100, KL divergence  0.0433, 50 iterations in 1.5603 sec\n",
      "Iteration  150, KL divergence  0.0295, 50 iterations in 1.3198 sec\n",
      "Iteration  200, KL divergence -0.0012, 50 iterations in 1.2499 sec\n",
      "Iteration  250, KL divergence -0.0024, 50 iterations in 1.2499 sec\n",
      "Iteration  300, KL divergence -0.0023, 50 iterations in 1.2432 sec\n",
      "Iteration  350, KL divergence -0.0027, 50 iterations in 1.2746 sec\n",
      "Iteration  400, KL divergence -0.0032, 50 iterations in 1.2536 sec\n",
      "Iteration  450, KL divergence -0.0035, 50 iterations in 1.2870 sec\n",
      "Iteration  500, KL divergence -0.0031, 50 iterations in 1.8706 sec\n",
      "Iteration  550, KL divergence -0.0033, 50 iterations in 1.7212 sec\n",
      "Iteration  600, KL divergence -0.0033, 50 iterations in 1.6033 sec\n",
      "Iteration  650, KL divergence -0.0031, 50 iterations in 1.6651 sec\n",
      "Iteration  700, KL divergence -0.0031, 50 iterations in 1.3653 sec\n",
      "Iteration  750, KL divergence -0.0033, 50 iterations in 1.4016 sec\n",
      "CPU times: user 20.4 s, sys: 307 ms, total: 20.7 s\n",
      "Wall time: 21.9 s\n"
     ]
    }
   ],
   "source": [
    "%time embedding_train_2 = embedding_train_1.optimize(n_iter=750, momentum=0.8)"
   ]
  },
  {
   "cell_type": "code",
   "execution_count": 29,
   "metadata": {},
   "outputs": [
    {
     "data": {
      "image/png": "[encoded data removed]",
      "text/plain": [
       "<Figure size 576x576 with 1 Axes>"
      ]
     },
     "metadata": {},
     "output_type": "display_data"
    }
   ],
   "source": [
    "utils.plot(embedding_train_2, y_train)"
   ]
  },
  {
   "cell_type": "markdown",
   "metadata": {},
   "source": [
    "## Transform"
   ]
  },
  {
   "cell_type": "code",
   "execution_count": 30,
   "metadata": {},
   "outputs": [
    {
     "name": "stdout",
     "output_type": "stream",
     "text": [
      "CPU times: user 7.5 ms, sys: 2.02 ms, total: 9.52 ms\n",
      "Wall time: 11.9 ms\n"
     ]
    }
   ],
   "source": [
    "%%time\n",
    "embedding_test = embedding_train_2.prepare_partial(\n",
    "    x_test,\n",
    "    initialization=\"median\",\n",
    "    k=25,\n",
    "    perplexity=5,\n",
    ")"
   ]
  },
  {
   "cell_type": "code",
   "execution_count": 31,
   "metadata": {
    "scrolled": true
   },
   "outputs": [
    {
     "data": {
      "image/png": "[encoded data removed]",
      "text/plain": [
       "<Figure size 576x576 with 1 Axes>"
      ]
     },
     "metadata": {},
     "output_type": "display_data"
    }
   ],
   "source": [
    "utils.plot(embedding_test, y_test)"
   ]
  },
  {
   "cell_type": "code",
   "execution_count": 32,
   "metadata": {},
   "outputs": [
    {
     "name": "stdout",
     "output_type": "stream",
     "text": [
      "CPU times: user 991 ms, sys: 21.4 ms, total: 1.01 s\n",
      "Wall time: 1.15 s\n"
     ]
    }
   ],
   "source": [
    "%%time\n",
    "embedding_test_1 = embedding_test.optimize(\n",
    "    n_iter=100,\n",
    "    learning_rate=1,\n",
    "    exaggeration=2,\n",
    "    momentum=0,\n",
    ")"
   ]
  },
  {
   "cell_type": "code",
   "execution_count": 33,
   "metadata": {},
   "outputs": [
    {
     "data": {
      "image/png": "[encoded data removed]",
      "text/plain": [
       "<Figure size 576x576 with 1 Axes>"
      ]
     },
     "metadata": {},
     "output_type": "display_data"
    }
   ],
   "source": [
    "utils.plot(embedding_test_1, y_test)"
   ]
  },
  {
   "cell_type": "markdown",
   "metadata": {},
   "source": [
    "## Together\n",
    "\n",
    "We superimpose the transformed points onto the original embedding with larger opacity."
   ]
  },
  {
   "cell_type": "code",
   "execution_count": null,
   "metadata": {
    "scrolled": true
   },
   "outputs": [],
   "source": [
    "fig, ax = plt.subplots(figsize=(12, 8))\n",
    "utils.plot(embedding_train_2, y_train, alpha=0.25, ax=ax)\n",
    "utils.plot(embedding_test_1, y_test, alpha=0.75, ax=ax)"
   ]
  },
  {
   "cell_type": "markdown",
   "metadata": {},
   "source": [
    "---"
   ]
  },
  {
   "cell_type": "markdown",
   "metadata": {},
   "source": [
    "### Test inheritance:"
   ]
  },
  {
   "cell_type": "code",
   "execution_count": 19,
   "metadata": {},
   "outputs": [
    {
     "name": "stdout",
     "output_type": "stream",
     "text": [
      "Init Previous\n",
      "Init Base\n",
      "Init Super\n",
      "super bark\n"
     ]
    }
   ],
   "source": [
    "class base():\n",
    "    def __init__(self):\n",
    "        init = \"Init Base\"\n",
    "        print(init)\n",
    "    def berk(self):\n",
    "        #mood = \"happy\"\n",
    "        print(\"woof\")\n",
    "        \n",
    "#currently (full override):\n",
    "class over(base):\n",
    "    def __init__(self):\n",
    "        init = \"Init Previous\"\n",
    "        print(init)\n",
    "    def berk(self):\n",
    "        print(\"dog.bark(self)\")\n",
    "\n",
    "billo = over()  \n",
    "\n",
    "#with super:\n",
    "class sup(base):\n",
    "    def __init__(self):\n",
    "        super(sup, self).__init__()\n",
    "        init = \"Init Super\"\n",
    "        print(init)\n",
    "    def berk(self):\n",
    "        super(base, self)\n",
    "        print(\"super bark\")\n",
    "        #print(mood)\n",
    "\n",
    "bello = sup()\n",
    "bello.berk()"
   ]
  },
  {
   "cell_type": "markdown",
   "metadata": {},
   "source": [
    "### Test numpy array:"
   ]
  },
  {
   "cell_type": "code",
   "execution_count": null,
   "metadata": {},
   "outputs": [],
   "source": [
    "import numpy as np\n",
    "\n",
    "print(\"x.shape: {}\".format(x.shape))\n",
    "arr = np.empty(x.shape)\n",
    "#print(\"arr: {}\".format(arr))\n",
    "entry = [0,1,2,3]\n",
    "arr[0] = entry\n",
    "print(\"arr + entry {}\".format(arr[0]))"
   ]
  },
  {
   "cell_type": "code",
   "execution_count": null,
   "metadata": {},
   "outputs": [],
   "source": [
    "import numpy as np\n",
    "\n",
    "#index = neighbors, distances\n",
    "data = [[[0,1,2,3],[0,20,30,40]],[[1,1,2,3],[10,20,30,40]],[[2,1,2,3],[20,20,30,40]],\n",
    "[[3,1,2,3],[30,20,30,40]],[[4,1,2,3],[40,20,30,40]]]\n",
    "\n",
    "neighbors = np.empty((5,4))\n",
    "distances = np.empty((5,4))\n",
    "\n",
    "for i in range(len(data)):\n",
    "    #neighbors_single, distances_single = np.asarray(data[i])\n",
    "    neighbors[i], distances[i] = np.asarray(data[i])\n",
    "#    neighbors[i] = neighbors_single\n",
    "#    distances[i] = distances_single\n",
    "      \n",
    "print(neighbors)\n",
    "print(distances)\n",
    "\n",
    "\n",
    "\n",
    "\n",
    "\n",
    "\n",
    "#indexarr = np.asarray(indexlist)\n",
    "#np.append(indexarr[1],np.asarray(indexlist1)[1], axis=0)\n",
    "#neig, dist = indexarr[1]\n",
    "#np.append(indexarr[0],np.asarray(indexlist1)[1], axis=0)\n",
    "\n",
    "#print(indexarr)\n",
    "\n",
    "\n",
    "#neigh = np.empty((4,4))\n",
    "#dist = np.empty\n",
    "\n",
    "#empty[0] = indexarr[0]\n",
    "#print(\"\")\n",
    "#print(empty)\n",
    "\n",
    "\n"
   ]
  },
  {
   "cell_type": "markdown",
   "metadata": {},
   "source": [
    "#### Test difference range, enumerate for data"
   ]
  },
  {
   "cell_type": "code",
   "execution_count": null,
   "metadata": {},
   "outputs": [],
   "source": [
    "#X = [[1,2,3],[4,5,6]]\n",
    "     \n",
    "#for i,x in enumerate(X):\n",
    "#    print(i,x)\n",
    "    \n",
    "#n_items, vector_length = x.shape\n",
    "#for i, j in range(n_items):\n",
    "#    print(j[i], i)\n",
    "#print(\"\")\n",
    "#for i,j in enumerate(x):\n",
    "#    print(i,j)"
   ]
  },
  {
   "cell_type": "markdown",
   "metadata": {},
   "source": [
    "#### Test ngtpy install"
   ]
  },
  {
   "cell_type": "code",
   "execution_count": 125,
   "metadata": {},
   "outputs": [
    {
     "ename": "ImportError",
     "evalue": "dlopen(/Library/Frameworks/Python.framework/Versions/3.7/lib/python3.7/site-packages/ngtpy.cpython-37m-darwin.so, 2): Library not loaded: /usr/local/opt/gcc/lib/gcc/8/libgomp.1.dylib\n  Referenced from: /Library/Frameworks/Python.framework/Versions/3.7/lib/python3.7/site-packages/ngtpy.cpython-37m-darwin.so\n  Reason: image not found",
     "output_type": "error",
     "traceback": [
      "\u001b[0;31m---------------------------------------------------------------------------\u001b[0m",
      "\u001b[0;31mImportError\u001b[0m                               Traceback (most recent call last)",
      "\u001b[0;32m<ipython-input-125-4e3b596bd14d>\u001b[0m in \u001b[0;36m<module>\u001b[0;34m\u001b[0m\n\u001b[0;32m----> 1\u001b[0;31m \u001b[0;32mimport\u001b[0m \u001b[0mngtpy\u001b[0m\u001b[0;34m\u001b[0m\u001b[0;34m\u001b[0m\u001b[0m\n\u001b[0m\u001b[1;32m      2\u001b[0m \u001b[0;32mimport\u001b[0m \u001b[0mrandom\u001b[0m\u001b[0;34m\u001b[0m\u001b[0;34m\u001b[0m\u001b[0m\n\u001b[1;32m      3\u001b[0m \u001b[0;34m\u001b[0m\u001b[0m\n\u001b[1;32m      4\u001b[0m \u001b[0mdim\u001b[0m \u001b[0;34m=\u001b[0m \u001b[0;36m10\u001b[0m\u001b[0;34m\u001b[0m\u001b[0;34m\u001b[0m\u001b[0m\n\u001b[1;32m      5\u001b[0m \u001b[0mobjects\u001b[0m \u001b[0;34m=\u001b[0m \u001b[0;34m[\u001b[0m\u001b[0;34m]\u001b[0m\u001b[0;34m\u001b[0m\u001b[0;34m\u001b[0m\u001b[0m\n",
      "\u001b[0;31mImportError\u001b[0m: dlopen(/Library/Frameworks/Python.framework/Versions/3.7/lib/python3.7/site-packages/ngtpy.cpython-37m-darwin.so, 2): Library not loaded: /usr/local/opt/gcc/lib/gcc/8/libgomp.1.dylib\n  Referenced from: /Library/Frameworks/Python.framework/Versions/3.7/lib/python3.7/site-packages/ngtpy.cpython-37m-darwin.so\n  Reason: image not found"
     ]
    }
   ],
   "source": [
    "import ngtpy\n",
    "import random\n",
    "\n",
    "dim = 10\n",
    "objects = []\n",
    "for i in range(0, 100) :\n",
    "    vector = random.sample(range(100), dim)\n",
    "    objects.append(vector)\n",
    "\n",
    "query = objects[0]\n",
    "\n",
    "ngtpy.create(b\"tmp\", dim)\n",
    "index = ngtpy.Index(b\"tmp\")\n",
    "index.batch_insert(objects)\n",
    "index.save()\n",
    "\n",
    "result = index.search(query, 3)\n",
    "\n",
    "for i, o in enumerate(result) :\n",
    "    print(str(i) + \": \" + str(o[0]) + \", \" + str(o[1]))\n",
    "    object = index.get_object(o[0])\n",
    "    print(object)"
   ]
  },
  {
   "cell_type": "markdown",
   "metadata": {},
   "source": [
    "#### assign object with argument"
   ]
  },
  {
   "cell_type": "code",
   "execution_count": 259,
   "metadata": {},
   "outputs": [
    {
     "name": "stdout",
     "output_type": "stream",
     "text": [
      "__\n",
      "12\n",
      "40\n"
     ]
    }
   ],
   "source": [
    "class base():\n",
    "    def __init__(self):\n",
    "        print(\"__\")\n",
    "\n",
    "class over():\n",
    "    def __init__(self, var):\n",
    "        print(var)\n",
    "    \n",
    "dog = base()\n",
    "deg = over(12)\n",
    "\n",
    "class DummyANN(KNNIndex):\n",
    "    def __init__(self, var):\n",
    "        self.var = var\n",
    "        print(self.var)\n",
    "        \n",
    "dum = DummyANN(40)"
   ]
  },
  {
   "cell_type": "markdown",
   "metadata": {},
   "source": [
    "##### Test TSNE manifold: change only single class function"
   ]
  },
  {
   "cell_type": "code",
   "execution_count": 165,
   "metadata": {},
   "outputs": [
    {
     "name": "stdout",
     "output_type": "stream",
     "text": [
      "Has to appear\n",
      "20\n",
      "Has to appear\n",
      "10\n"
     ]
    }
   ],
   "source": [
    "class original():\n",
    "    def __init__(self, var):\n",
    "        self.var = var\n",
    "        print(\"Has to appear\")\n",
    "        \n",
    "    def fit(self):\n",
    "        print(self.var+self.var)\n",
    "\n",
    "class mine(original):\n",
    "    def fit(self):\n",
    "        print(self.var)\n",
    "    \n",
    "previous = original(10)\n",
    "previous.fit()\n",
    "\n",
    "now = mine(10)\n",
    "now.fit()"
   ]
  },
  {
   "cell_type": "markdown",
   "metadata": {},
   "source": [
    "##### MutliScale(MyMultiscalemixture): Check if overwriting a class with a new method"
   ]
  },
  {
   "cell_type": "code",
   "execution_count": 167,
   "metadata": {},
   "outputs": [
    {
     "data": {
      "text/plain": [
       "['/Volumes/ProjectDrive/code/python/bakk-project/multi-ann-tsne-widget',\n",
       " '/Library/Frameworks/Python.framework/Versions/3.7/lib/python37.zip',\n",
       " '/Library/Frameworks/Python.framework/Versions/3.7/lib/python3.7',\n",
       " '/Library/Frameworks/Python.framework/Versions/3.7/lib/python3.7/lib-dynload',\n",
       " '',\n",
       " '/Users/make/Library/Python/3.7/lib/python/site-packages',\n",
       " '/Library/Frameworks/Python.framework/Versions/3.7/lib/python3.7/site-packages',\n",
       " '/Library/Frameworks/Python.framework/Versions/3.7/lib/python3.7/site-packages/IPython/extensions',\n",
       " '/Users/make/.ipython']"
      ]
     },
     "execution_count": 167,
     "metadata": {},
     "output_type": "execute_result"
    }
   ],
   "source": [
    "sys.path"
   ]
  },
  {
   "cell_type": "code",
   "execution_count": null,
   "metadata": {},
   "outputs": [],
   "source": []
  }
 ],
 "metadata": {
  "kernelspec": {
   "display_name": "Python 3",
   "language": "python",
   "name": "python3"
  },
  "language_info": {
   "codemirror_mode": {
    "name": "ipython",
    "version": 3
   },
   "file_extension": ".py",
   "mimetype": "text/x-python",
   "name": "python",
   "nbconvert_exporter": "python",
   "pygments_lexer": "ipython3",
   "version": "3.7.3"
  }
 },
 "nbformat": 4,
 "nbformat_minor": 2
}
